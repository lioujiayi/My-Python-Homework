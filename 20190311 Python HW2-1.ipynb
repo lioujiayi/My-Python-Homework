{
 "cells": [
  {
   "cell_type": "markdown",
   "metadata": {},
   "source": [
    "#interact"
   ]
  },
  {
   "cell_type": "code",
   "execution_count": 32,
   "metadata": {},
   "outputs": [
    {
     "data": {
      "application/vnd.jupyter.widget-view+json": {
       "model_id": "0d8fe80ebefe443bad394954daf78bb8",
       "version_major": 2,
       "version_minor": 0
      },
      "text/html": [
       "<p>Failed to display Jupyter Widget of type <code>interactive</code>.</p>\n",
       "<p>\n",
       "  If you're reading this message in the Jupyter Notebook or JupyterLab Notebook, it may mean\n",
       "  that the widgets JavaScript is still loading. If this message persists, it\n",
       "  likely means that the widgets JavaScript library is either not installed or\n",
       "  not enabled. See the <a href=\"https://ipywidgets.readthedocs.io/en/stable/user_install.html\">Jupyter\n",
       "  Widgets Documentation</a> for setup instructions.\n",
       "</p>\n",
       "<p>\n",
       "  If you're reading this message in another frontend (for example, a static\n",
       "  rendering on GitHub or <a href=\"https://nbviewer.jupyter.org/\">NBViewer</a>),\n",
       "  it may mean that your frontend doesn't currently support widgets.\n",
       "</p>\n"
      ],
      "text/plain": [
       "interactive(children=(Dropdown(description='x', options=('請選擇', '剪刀', '石頭', '布'), value='請選擇'), Output()), _dom_classes=('widget-interact',))"
      ]
     },
     "metadata": {},
     "output_type": "display_data"
    },
    {
     "data": {
      "text/plain": [
       "<function __main__.f>"
      ]
     },
     "execution_count": 32,
     "metadata": {},
     "output_type": "execute_result"
    }
   ],
   "source": [
    "%matplotlib inline\n",
    "import numpy as np\n",
    "import matplotlib.pyplot as plt\n",
    "from ipywidgets import interact\n",
    "\n",
    "def f(x):\n",
    "    if x=='請選擇':\n",
    "        print ('請出拳~')\n",
    "    else:\n",
    "        if x=='剪刀':\n",
    "            a=['剪刀','石頭','布']\n",
    "            cpu=int(np.random.randint(0,2,1))\n",
    "            print('你:'+x)\n",
    "            print('對手:'+a[cpu])\n",
    "            player=0\n",
    "        elif x=='石頭':\n",
    "            a=['剪刀','石頭','布']\n",
    "            cpu=int(np.random.randint(0,2,1))\n",
    "            print('你:'+x)\n",
    "            print('對手:'+a[cpu])\n",
    "            player=1\n",
    "        else:\n",
    "            a=['剪刀','石頭','布']\n",
    "            cpu=int(np.random.randint(0,2,1))\n",
    "            print('你:'+x)\n",
    "            print('對手:'+a[cpu])\n",
    "            player=2\n",
    "        if player==cpu:\n",
    "            print('結果:平手')\n",
    "        elif player==0:\n",
    "            if cpu==1:\n",
    "                print('真可惜~對手贏了!')\n",
    "            else:\n",
    "                print('恭喜~你贏了!!')\n",
    "        elif player==1:\n",
    "            if cpu==0:\n",
    "                print('恭喜~你贏了!!')\n",
    "            else:\n",
    "                print('真可惜~對手贏了!')\n",
    "        else:\n",
    "            if cpu==0:\n",
    "                print('真可惜~對手贏了!')\n",
    "            else:\n",
    "                print('恭喜~你贏了!!') \n",
    "\n",
    "interact(f,x=['請選擇','剪刀','石頭','布'])"
   ]
  },
  {
   "cell_type": "code",
   "execution_count": null,
   "metadata": {},
   "outputs": [],
   "source": []
  },
  {
   "cell_type": "code",
   "execution_count": null,
   "metadata": {},
   "outputs": [],
   "source": []
  }
 ],
 "metadata": {
  "kernelspec": {
   "display_name": "Python 3",
   "language": "python",
   "name": "python3"
  },
  "language_info": {
   "codemirror_mode": {
    "name": "ipython",
    "version": 3
   },
   "file_extension": ".py",
   "mimetype": "text/x-python",
   "name": "python",
   "nbconvert_exporter": "python",
   "pygments_lexer": "ipython3",
   "version": "3.6.4"
  }
 },
 "nbformat": 4,
 "nbformat_minor": 2
}
