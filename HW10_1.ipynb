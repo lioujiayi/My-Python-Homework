{
 "cells": [
  {
   "cell_type": "markdown",
   "metadata": {},
   "source": [
    "# RNN 情意分析 (使用IMDB 電影數據庫影評)"
   ]
  },
  {
   "cell_type": "markdown",
   "metadata": {},
   "source": [
    "## 1. 初始準備"
   ]
  },
  {
   "cell_type": "code",
   "execution_count": 1,
   "metadata": {},
   "outputs": [],
   "source": [
    "%matplotlib inline\n",
    "import numpy as np\n",
    "import matplotlib.pyplot as plt"
   ]
  },
  {
   "cell_type": "code",
   "execution_count": 2,
   "metadata": {},
   "outputs": [
    {
     "name": "stdout",
     "output_type": "stream",
     "text": [
      "env: KERAS_BACKEND=tensorflow\n"
     ]
    }
   ],
   "source": [
    "%env KERAS_BACKEND = tensorflow"
   ]
  },
  {
   "cell_type": "code",
   "execution_count": 4,
   "metadata": {},
   "outputs": [],
   "source": [
    "from keras.models import Sequential\n",
    "from keras.layers import Dense, Embedding, LSTM, Dropout\n",
    "from keras.preprocessing import sequence"
   ]
  },
  {
   "cell_type": "markdown",
   "metadata": {},
   "source": [
    "## 2. 讀入 IMDB 電影數據庫"
   ]
  },
  {
   "cell_type": "code",
   "execution_count": 5,
   "metadata": {},
   "outputs": [],
   "source": [
    "from keras.datasets import imdb\n",
    "(x_train, y_train), (x_test, y_test) = imdb.load_data(num_words=10000)"
   ]
  },
  {
   "cell_type": "markdown",
   "metadata": {},
   "source": [
    "## 3. 整理資料格式"
   ]
  },
  {
   "cell_type": "code",
   "execution_count": 6,
   "metadata": {},
   "outputs": [],
   "source": [
    "x_train = sequence.pad_sequences(x_train, maxlen=150)\n",
    "x_test = sequence.pad_sequences(x_test, maxlen=150)"
   ]
  },
  {
   "cell_type": "markdown",
   "metadata": {},
   "source": [
    "## 4. 決定 RNN 架構、訓練模型\n",
    "### 4.1 model_1\n",
    "* 文字壓成<span style=\"color:red;\">5</span>維\n",
    "* LSTM 有<span style=\"color:red;\">4</span>個神經元"
   ]
  },
  {
   "cell_type": "code",
   "execution_count": 7,
   "metadata": {},
   "outputs": [],
   "source": [
    "N = 5\n",
    "K = 4"
   ]
  },
  {
   "cell_type": "code",
   "execution_count": 8,
   "metadata": {},
   "outputs": [
    {
     "name": "stdout",
     "output_type": "stream",
     "text": [
      "WARNING:tensorflow:From C:\\Users\\JIAYI\\Anaconda3\\lib\\site-packages\\tensorflow\\python\\framework\\op_def_library.py:263: colocate_with (from tensorflow.python.framework.ops) is deprecated and will be removed in a future version.\n",
      "Instructions for updating:\n",
      "Colocations handled automatically by placer.\n"
     ]
    }
   ],
   "source": [
    "model_1 = Sequential()\n",
    "model_1.add(Embedding(10000, N))\n",
    "model_1.add(LSTM(K))\n",
    "model_1.add(Dense(1, activation='sigmoid'))"
   ]
  },
  {
   "cell_type": "code",
   "execution_count": 9,
   "metadata": {},
   "outputs": [
    {
     "name": "stdout",
     "output_type": "stream",
     "text": [
      "_________________________________________________________________\n",
      "Layer (type)                 Output Shape              Param #   \n",
      "=================================================================\n",
      "embedding_1 (Embedding)      (None, None, 5)           50000     \n",
      "_________________________________________________________________\n",
      "lstm_1 (LSTM)                (None, 4)                 160       \n",
      "_________________________________________________________________\n",
      "dense_1 (Dense)              (None, 1)                 5         \n",
      "=================================================================\n",
      "Total params: 50,165\n",
      "Trainable params: 50,165\n",
      "Non-trainable params: 0\n",
      "_________________________________________________________________\n"
     ]
    }
   ],
   "source": [
    "model_1.compile(loss='binary_crossentropy', optimizer='adam', metrics=['accuracy'])\n",
    "model_1.summary()"
   ]
  },
  {
   "cell_type": "code",
   "execution_count": 10,
   "metadata": {},
   "outputs": [
    {
     "name": "stdout",
     "output_type": "stream",
     "text": [
      "WARNING:tensorflow:From C:\\Users\\JIAYI\\Anaconda3\\lib\\site-packages\\tensorflow\\python\\ops\\math_ops.py:3066: to_int32 (from tensorflow.python.ops.math_ops) is deprecated and will be removed in a future version.\n",
      "Instructions for updating:\n",
      "Use tf.cast instead.\n",
      "Train on 25000 samples, validate on 25000 samples\n",
      "Epoch 1/5\n",
      "25000/25000 [==============================] - 33s 1ms/step - loss: 0.5069 - acc: 0.7539 - val_loss: 0.3820 - val_acc: 0.8444\n",
      "Epoch 2/5\n",
      "25000/25000 [==============================] - 32s 1ms/step - loss: 0.3003 - acc: 0.8848 - val_loss: 0.3626 - val_acc: 0.8458\n",
      "Epoch 3/5\n",
      "25000/25000 [==============================] - 32s 1ms/step - loss: 0.2260 - acc: 0.9192 - val_loss: 0.3459 - val_acc: 0.8590\n",
      "Epoch 4/5\n",
      "25000/25000 [==============================] - 32s 1ms/step - loss: 0.1873 - acc: 0.9352 - val_loss: 0.3522 - val_acc: 0.8590\n",
      "Epoch 5/5\n",
      "25000/25000 [==============================] - 32s 1ms/step - loss: 0.1530 - acc: 0.9496 - val_loss: 0.3801 - val_acc: 0.8555\n"
     ]
    },
    {
     "data": {
      "text/plain": [
       "<keras.callbacks.History at 0x1e1598df5c0>"
      ]
     },
     "execution_count": 10,
     "metadata": {},
     "output_type": "execute_result"
    }
   ],
   "source": [
    "model_1.fit(x_train, y_train, batch_size=32, epochs=5, validation_data = (x_test, y_test))"
   ]
  },
  {
   "cell_type": "markdown",
   "metadata": {},
   "source": [
    "### 4.2 model_2\n",
    "* 文字壓成<span style=\"color:red;\">1</span>維\n",
    "* LSTM 有<span style=\"color:red;\">4</span>個神經元"
   ]
  },
  {
   "cell_type": "code",
   "execution_count": 11,
   "metadata": {},
   "outputs": [],
   "source": [
    "N = 1\n",
    "K = 4"
   ]
  },
  {
   "cell_type": "code",
   "execution_count": 12,
   "metadata": {},
   "outputs": [],
   "source": [
    "model_2 = Sequential()\n",
    "model_2.add(Embedding(10000, N))\n",
    "model_2.add(LSTM(K))\n",
    "model_2.add(Dense(1, activation='sigmoid'))"
   ]
  },
  {
   "cell_type": "code",
   "execution_count": 13,
   "metadata": {},
   "outputs": [
    {
     "name": "stdout",
     "output_type": "stream",
     "text": [
      "_________________________________________________________________\n",
      "Layer (type)                 Output Shape              Param #   \n",
      "=================================================================\n",
      "embedding_2 (Embedding)      (None, None, 1)           10000     \n",
      "_________________________________________________________________\n",
      "lstm_2 (LSTM)                (None, 4)                 96        \n",
      "_________________________________________________________________\n",
      "dense_2 (Dense)              (None, 1)                 5         \n",
      "=================================================================\n",
      "Total params: 10,101\n",
      "Trainable params: 10,101\n",
      "Non-trainable params: 0\n",
      "_________________________________________________________________\n"
     ]
    }
   ],
   "source": [
    "model_2.compile(loss='binary_crossentropy', optimizer='adam', metrics=['accuracy'])\n",
    "model_2.summary()"
   ]
  },
  {
   "cell_type": "code",
   "execution_count": 14,
   "metadata": {},
   "outputs": [
    {
     "name": "stdout",
     "output_type": "stream",
     "text": [
      "Train on 25000 samples, validate on 25000 samples\n",
      "Epoch 1/5\n",
      "25000/25000 [==============================] - 32s 1ms/step - loss: 0.5372 - acc: 0.7291 - val_loss: 0.4050 - val_acc: 0.8394\n",
      "Epoch 2/5\n",
      "25000/25000 [==============================] - 31s 1ms/step - loss: 0.3120 - acc: 0.8838 - val_loss: 0.3412 - val_acc: 0.8604\n",
      "Epoch 3/5\n",
      "25000/25000 [==============================] - 31s 1ms/step - loss: 0.2427 - acc: 0.9117 - val_loss: 0.3243 - val_acc: 0.8664\n",
      "Epoch 4/5\n",
      "25000/25000 [==============================] - 31s 1ms/step - loss: 0.2021 - acc: 0.9292 - val_loss: 0.3338 - val_acc: 0.8627\n",
      "Epoch 5/5\n",
      "25000/25000 [==============================] - 32s 1ms/step - loss: 0.1743 - acc: 0.9413 - val_loss: 0.3742 - val_acc: 0.8587\n"
     ]
    },
    {
     "data": {
      "text/plain": [
       "<keras.callbacks.History at 0x1e15c0757b8>"
      ]
     },
     "execution_count": 14,
     "metadata": {},
     "output_type": "execute_result"
    }
   ],
   "source": [
    "model_2.fit(x_train, y_train, batch_size=32, epochs=5, validation_data = (x_test, y_test))"
   ]
  },
  {
   "cell_type": "markdown",
   "metadata": {},
   "source": [
    "### 4.3 model_3\n",
    "* 文字壓成<span style=\"color:red;\">3</span>維\n",
    "* LSTM 有<span style=\"color:red;\">50</span>個神經元"
   ]
  },
  {
   "cell_type": "code",
   "execution_count": 15,
   "metadata": {},
   "outputs": [],
   "source": [
    "N = 3\n",
    "K = 50"
   ]
  },
  {
   "cell_type": "code",
   "execution_count": 16,
   "metadata": {},
   "outputs": [],
   "source": [
    "model_3 = Sequential()\n",
    "model_3.add(Embedding(10000, N))\n",
    "model_3.add(LSTM(K))\n",
    "model_3.add(Dense(1, activation='sigmoid'))"
   ]
  },
  {
   "cell_type": "code",
   "execution_count": 17,
   "metadata": {},
   "outputs": [
    {
     "name": "stdout",
     "output_type": "stream",
     "text": [
      "_________________________________________________________________\n",
      "Layer (type)                 Output Shape              Param #   \n",
      "=================================================================\n",
      "embedding_3 (Embedding)      (None, None, 3)           30000     \n",
      "_________________________________________________________________\n",
      "lstm_3 (LSTM)                (None, 50)                10800     \n",
      "_________________________________________________________________\n",
      "dense_3 (Dense)              (None, 1)                 51        \n",
      "=================================================================\n",
      "Total params: 40,851\n",
      "Trainable params: 40,851\n",
      "Non-trainable params: 0\n",
      "_________________________________________________________________\n"
     ]
    }
   ],
   "source": [
    "model_3.compile(loss='binary_crossentropy', optimizer='adam', metrics=['accuracy'])\n",
    "model_3.summary()"
   ]
  },
  {
   "cell_type": "code",
   "execution_count": 18,
   "metadata": {},
   "outputs": [
    {
     "name": "stdout",
     "output_type": "stream",
     "text": [
      "Train on 25000 samples, validate on 25000 samples\n",
      "Epoch 1/5\n",
      "25000/25000 [==============================] - 34s 1ms/step - loss: 0.4525 - acc: 0.7735 - val_loss: 0.3263 - val_acc: 0.8590\n",
      "Epoch 2/5\n",
      "25000/25000 [==============================] - 33s 1ms/step - loss: 0.2632 - acc: 0.8955 - val_loss: 0.3313 - val_acc: 0.8596lo\n",
      "Epoch 3/5\n",
      "25000/25000 [==============================] - 33s 1ms/step - loss: 0.2168 - acc: 0.9168 - val_loss: 0.3358 - val_acc: 0.8636\n",
      "Epoch 4/5\n",
      "25000/25000 [==============================] - 33s 1ms/step - loss: 0.1796 - acc: 0.9346 - val_loss: 0.3593 - val_acc: 0.8576\n",
      "Epoch 5/5\n",
      "25000/25000 [==============================] - 33s 1ms/step - loss: 0.1549 - acc: 0.9453 - val_loss: 0.4630 - val_acc: 0.8450\n"
     ]
    },
    {
     "data": {
      "text/plain": [
       "<keras.callbacks.History at 0x1e16197aeb8>"
      ]
     },
     "execution_count": 18,
     "metadata": {},
     "output_type": "execute_result"
    }
   ],
   "source": [
    "model_3.fit(x_train, y_train, batch_size=32, epochs=5, validation_data = (x_test, y_test))"
   ]
  },
  {
   "cell_type": "markdown",
   "metadata": {},
   "source": [
    "### 4.4 model_4\n",
    "* 文字壓成<span style=\"color:red;\">3</span>維\n",
    "* LSTM 有<span style=\"color:red;\">2</span>個神經元"
   ]
  },
  {
   "cell_type": "code",
   "execution_count": 19,
   "metadata": {},
   "outputs": [],
   "source": [
    "N = 3\n",
    "K = 2"
   ]
  },
  {
   "cell_type": "code",
   "execution_count": 20,
   "metadata": {},
   "outputs": [],
   "source": [
    "model_4 = Sequential()\n",
    "model_4.add(Embedding(10000, N))\n",
    "model_4.add(LSTM(K))\n",
    "model_4.add(Dense(1, activation='sigmoid'))"
   ]
  },
  {
   "cell_type": "code",
   "execution_count": 21,
   "metadata": {},
   "outputs": [
    {
     "name": "stdout",
     "output_type": "stream",
     "text": [
      "_________________________________________________________________\n",
      "Layer (type)                 Output Shape              Param #   \n",
      "=================================================================\n",
      "embedding_4 (Embedding)      (None, None, 3)           30000     \n",
      "_________________________________________________________________\n",
      "lstm_4 (LSTM)                (None, 2)                 48        \n",
      "_________________________________________________________________\n",
      "dense_4 (Dense)              (None, 1)                 3         \n",
      "=================================================================\n",
      "Total params: 30,051\n",
      "Trainable params: 30,051\n",
      "Non-trainable params: 0\n",
      "_________________________________________________________________\n"
     ]
    }
   ],
   "source": [
    "model_4.compile(loss='binary_crossentropy', optimizer='adam', metrics=['accuracy'])\n",
    "model_4.summary()"
   ]
  },
  {
   "cell_type": "code",
   "execution_count": 22,
   "metadata": {},
   "outputs": [
    {
     "name": "stdout",
     "output_type": "stream",
     "text": [
      "Train on 25000 samples, validate on 25000 samples\n",
      "Epoch 1/5\n",
      "25000/25000 [==============================] - 33s 1ms/step - loss: 0.5376 - acc: 0.7321 - val_loss: 0.4175 - val_acc: 0.8328\n",
      "Epoch 2/5\n",
      "25000/25000 [==============================] - 32s 1ms/step - loss: 0.3420 - acc: 0.8713 - val_loss: 0.3707 - val_acc: 0.8453\n",
      "Epoch 3/5\n",
      "25000/25000 [==============================] - 31s 1ms/step - loss: 0.2787 - acc: 0.8962 - val_loss: 0.3737 - val_acc: 0.8489\n",
      "Epoch 4/5\n",
      "25000/25000 [==============================] - 31s 1ms/step - loss: 0.2380 - acc: 0.9155 - val_loss: 0.3809 - val_acc: 0.8472\n",
      "Epoch 5/5\n",
      "25000/25000 [==============================] - 31s 1ms/step - loss: 0.2081 - acc: 0.9289 - val_loss: 0.3829 - val_acc: 0.8449\n"
     ]
    },
    {
     "data": {
      "text/plain": [
       "<keras.callbacks.History at 0x1e168cb0c50>"
      ]
     },
     "execution_count": 22,
     "metadata": {},
     "output_type": "execute_result"
    }
   ],
   "source": [
    "model_4.fit(x_train, y_train, batch_size=32, epochs=5, validation_data = (x_test, y_test))"
   ]
  },
  {
   "cell_type": "markdown",
   "metadata": {},
   "source": [
    "### 4.5 model_5\n",
    "* 文字壓成<span style=\"color:red;\">3</span>維\n",
    "* LSTM 有<span style=\"color:red;\">4</span>個神經元\n",
    "* activation function : <span style=\"color:red;\">relu</span>\n",
    "* 由於先前測試結果大約在epoch = 3 時的測試資料準確率最高，因此改為<span style=\"color:red;\">epochs=3</span>"
   ]
  },
  {
   "cell_type": "code",
   "execution_count": 23,
   "metadata": {},
   "outputs": [],
   "source": [
    "N = 3\n",
    "K = 4"
   ]
  },
  {
   "cell_type": "code",
   "execution_count": 24,
   "metadata": {},
   "outputs": [],
   "source": [
    "model_5 = Sequential()\n",
    "model_5.add(Embedding(10000, N))\n",
    "model_5.add(LSTM(K))\n",
    "model_5.add(Dense(1, activation='relu'))"
   ]
  },
  {
   "cell_type": "code",
   "execution_count": 25,
   "metadata": {},
   "outputs": [
    {
     "name": "stdout",
     "output_type": "stream",
     "text": [
      "_________________________________________________________________\n",
      "Layer (type)                 Output Shape              Param #   \n",
      "=================================================================\n",
      "embedding_5 (Embedding)      (None, None, 3)           30000     \n",
      "_________________________________________________________________\n",
      "lstm_5 (LSTM)                (None, 4)                 128       \n",
      "_________________________________________________________________\n",
      "dense_5 (Dense)              (None, 1)                 5         \n",
      "=================================================================\n",
      "Total params: 30,133\n",
      "Trainable params: 30,133\n",
      "Non-trainable params: 0\n",
      "_________________________________________________________________\n"
     ]
    }
   ],
   "source": [
    "model_5.compile(loss='binary_crossentropy', optimizer='adam', metrics=['accuracy'])\n",
    "model_5.summary()"
   ]
  },
  {
   "cell_type": "code",
   "execution_count": 26,
   "metadata": {},
   "outputs": [
    {
     "name": "stdout",
     "output_type": "stream",
     "text": [
      "Train on 25000 samples, validate on 25000 samples\n",
      "Epoch 1/3\n",
      "25000/25000 [==============================] - 32s 1ms/step - loss: 0.5831 - acc: 0.7367 - val_loss: 0.3554 - val_acc: 0.8553\n",
      "Epoch 2/3\n",
      "25000/25000 [==============================] - 32s 1ms/step - loss: 0.3064 - acc: 0.8869 - val_loss: 0.4114 - val_acc: 0.8618\n",
      "Epoch 3/3\n",
      "25000/25000 [==============================] - 32s 1ms/step - loss: 0.3452 - acc: 0.8878 - val_loss: 0.4152 - val_acc: 0.8622\n"
     ]
    },
    {
     "data": {
      "text/plain": [
       "<keras.callbacks.History at 0x1e16d79aba8>"
      ]
     },
     "execution_count": 26,
     "metadata": {},
     "output_type": "execute_result"
    }
   ],
   "source": [
    "model_5.fit(x_train, y_train, batch_size=32, epochs=3, validation_data = (x_test, y_test))"
   ]
  },
  {
   "cell_type": "markdown",
   "metadata": {},
   "source": [
    "### 4.6 model_6\n",
    "* 文字壓成<span style=\"color:red;\">3</span>維\n",
    "* LSTM 有<span style=\"color:red;\">4</span>個神經元\n",
    "* 使用Dropout <span style=\"color:red;\">0.25</span>"
   ]
  },
  {
   "cell_type": "code",
   "execution_count": 27,
   "metadata": {},
   "outputs": [],
   "source": [
    "N = 3\n",
    "K = 4"
   ]
  },
  {
   "cell_type": "code",
   "execution_count": 28,
   "metadata": {},
   "outputs": [
    {
     "name": "stdout",
     "output_type": "stream",
     "text": [
      "WARNING:tensorflow:From C:\\Users\\JIAYI\\Anaconda3\\lib\\site-packages\\keras\\backend\\tensorflow_backend.py:3445: calling dropout (from tensorflow.python.ops.nn_ops) with keep_prob is deprecated and will be removed in a future version.\n",
      "Instructions for updating:\n",
      "Please use `rate` instead of `keep_prob`. Rate should be set to `rate = 1 - keep_prob`.\n"
     ]
    }
   ],
   "source": [
    "model_6 = Sequential()\n",
    "model_6.add(Embedding(10000, N))\n",
    "model_6.add(Dropout(0.25))\n",
    "model_6.add(LSTM(K))\n",
    "model_6.add(Dense(1, activation='sigmoid'))"
   ]
  },
  {
   "cell_type": "code",
   "execution_count": 29,
   "metadata": {},
   "outputs": [
    {
     "name": "stdout",
     "output_type": "stream",
     "text": [
      "_________________________________________________________________\n",
      "Layer (type)                 Output Shape              Param #   \n",
      "=================================================================\n",
      "embedding_6 (Embedding)      (None, None, 3)           30000     \n",
      "_________________________________________________________________\n",
      "dropout_1 (Dropout)          (None, None, 3)           0         \n",
      "_________________________________________________________________\n",
      "lstm_6 (LSTM)                (None, 4)                 128       \n",
      "_________________________________________________________________\n",
      "dense_6 (Dense)              (None, 1)                 5         \n",
      "=================================================================\n",
      "Total params: 30,133\n",
      "Trainable params: 30,133\n",
      "Non-trainable params: 0\n",
      "_________________________________________________________________\n"
     ]
    }
   ],
   "source": [
    "model_6.compile(loss='binary_crossentropy', optimizer='adam', metrics=['accuracy'])\n",
    "model_6.summary()"
   ]
  },
  {
   "cell_type": "code",
   "execution_count": 30,
   "metadata": {},
   "outputs": [
    {
     "name": "stdout",
     "output_type": "stream",
     "text": [
      "Train on 25000 samples, validate on 25000 samples\n",
      "Epoch 1/3\n",
      "25000/25000 [==============================] - 33s 1ms/step - loss: 0.5478 - acc: 0.7297 - val_loss: 0.4190 - val_acc: 0.8243\n",
      "Epoch 2/3\n",
      "25000/25000 [==============================] - 32s 1ms/step - loss: 0.3641 - acc: 0.8555 - val_loss: 0.3647 - val_acc: 0.8468\n",
      "Epoch 3/3\n",
      "25000/25000 [==============================] - 33s 1ms/step - loss: 0.2951 - acc: 0.8878 - val_loss: 0.3601 - val_acc: 0.8482\n"
     ]
    },
    {
     "data": {
      "text/plain": [
       "<keras.callbacks.History at 0x1e16e292e10>"
      ]
     },
     "execution_count": 30,
     "metadata": {},
     "output_type": "execute_result"
    }
   ],
   "source": [
    "model_6.fit(x_train, y_train, batch_size=32, epochs=3, validation_data = (x_test, y_test))"
   ]
  },
  {
   "cell_type": "markdown",
   "metadata": {},
   "source": [
    "### 4.7 model_7\n",
    "* 文字壓成<span style=\"color:red;\">3</span>維\n",
    "* LSTM 有<span style=\"color:red;\">4</span>個神經元\n",
    "* 使用Dropout <span style=\"color:red;\">0.4</span>"
   ]
  },
  {
   "cell_type": "code",
   "execution_count": 31,
   "metadata": {},
   "outputs": [],
   "source": [
    "N = 3\n",
    "K = 4"
   ]
  },
  {
   "cell_type": "code",
   "execution_count": 32,
   "metadata": {},
   "outputs": [],
   "source": [
    "model_7 = Sequential()\n",
    "model_7.add(Embedding(10000, N))\n",
    "model_7.add(Dropout(0.4))\n",
    "model_7.add(LSTM(K))\n",
    "model_7.add(Dense(1, activation='sigmoid'))"
   ]
  },
  {
   "cell_type": "code",
   "execution_count": 33,
   "metadata": {},
   "outputs": [
    {
     "name": "stdout",
     "output_type": "stream",
     "text": [
      "_________________________________________________________________\n",
      "Layer (type)                 Output Shape              Param #   \n",
      "=================================================================\n",
      "embedding_7 (Embedding)      (None, None, 3)           30000     \n",
      "_________________________________________________________________\n",
      "dropout_2 (Dropout)          (None, None, 3)           0         \n",
      "_________________________________________________________________\n",
      "lstm_7 (LSTM)                (None, 4)                 128       \n",
      "_________________________________________________________________\n",
      "dense_7 (Dense)              (None, 1)                 5         \n",
      "=================================================================\n",
      "Total params: 30,133\n",
      "Trainable params: 30,133\n",
      "Non-trainable params: 0\n",
      "_________________________________________________________________\n"
     ]
    }
   ],
   "source": [
    "model_7.compile(loss='binary_crossentropy', optimizer='adam', metrics=['accuracy'])\n",
    "model_7.summary()"
   ]
  },
  {
   "cell_type": "code",
   "execution_count": 34,
   "metadata": {},
   "outputs": [
    {
     "name": "stdout",
     "output_type": "stream",
     "text": [
      "Train on 25000 samples, validate on 25000 samples\n",
      "Epoch 1/3\n",
      "25000/25000 [==============================] - 33s 1ms/step - loss: 0.5626 - acc: 0.7139 - val_loss: 0.4206 - val_acc: 0.8352\n",
      "Epoch 2/3\n",
      "25000/25000 [==============================] - 32s 1ms/step - loss: 0.3698 - acc: 0.8504 - val_loss: 0.3583 - val_acc: 0.8452\n",
      "Epoch 3/3\n",
      "25000/25000 [==============================] - 32s 1ms/step - loss: 0.2890 - acc: 0.8844 - val_loss: 0.3195 - val_acc: 0.8680\n"
     ]
    },
    {
     "data": {
      "text/plain": [
       "<keras.callbacks.History at 0x1e1700dbac8>"
      ]
     },
     "execution_count": 34,
     "metadata": {},
     "output_type": "execute_result"
    }
   ],
   "source": [
    "model_7.fit(x_train, y_train, batch_size=32, epochs=3, validation_data = (x_test, y_test))"
   ]
  },
  {
   "cell_type": "markdown",
   "metadata": {},
   "source": [
    "### 4.8 model_8\n",
    "* 文字壓成<span style=\"color:red;\">3</span>維\n",
    "* LSTM 有<span style=\"color:red;\">4</span>個神經元\n",
    "* 使用Dropout <span style=\"color:red;\">0.5</span>"
   ]
  },
  {
   "cell_type": "code",
   "execution_count": 35,
   "metadata": {},
   "outputs": [],
   "source": [
    "N = 3\n",
    "K = 4"
   ]
  },
  {
   "cell_type": "code",
   "execution_count": 36,
   "metadata": {},
   "outputs": [],
   "source": [
    "model_8 = Sequential()\n",
    "model_8.add(Embedding(10000, N))\n",
    "model_8.add(Dropout(0.5))\n",
    "model_8.add(LSTM(K))\n",
    "model_8.add(Dense(1, activation='sigmoid'))"
   ]
  },
  {
   "cell_type": "code",
   "execution_count": 37,
   "metadata": {},
   "outputs": [
    {
     "name": "stdout",
     "output_type": "stream",
     "text": [
      "_________________________________________________________________\n",
      "Layer (type)                 Output Shape              Param #   \n",
      "=================================================================\n",
      "embedding_8 (Embedding)      (None, None, 3)           30000     \n",
      "_________________________________________________________________\n",
      "dropout_3 (Dropout)          (None, None, 3)           0         \n",
      "_________________________________________________________________\n",
      "lstm_8 (LSTM)                (None, 4)                 128       \n",
      "_________________________________________________________________\n",
      "dense_8 (Dense)              (None, 1)                 5         \n",
      "=================================================================\n",
      "Total params: 30,133\n",
      "Trainable params: 30,133\n",
      "Non-trainable params: 0\n",
      "_________________________________________________________________\n"
     ]
    }
   ],
   "source": [
    "model_8.compile(loss='binary_crossentropy', optimizer='adam', metrics=['accuracy'])\n",
    "model_8.summary()"
   ]
  },
  {
   "cell_type": "code",
   "execution_count": 38,
   "metadata": {},
   "outputs": [
    {
     "name": "stdout",
     "output_type": "stream",
     "text": [
      "Train on 25000 samples, validate on 25000 samples\n",
      "Epoch 1/3\n",
      "25000/25000 [==============================] - 34s 1ms/step - loss: 0.5950 - acc: 0.6754 - val_loss: 0.4283 - val_acc: 0.8286\n",
      "Epoch 2/3\n",
      "25000/25000 [==============================] - 32s 1ms/step - loss: 0.3848 - acc: 0.8396 - val_loss: 0.3359 - val_acc: 0.8551\n",
      "Epoch 3/3\n",
      "25000/25000 [==============================] - 33s 1ms/step - loss: 0.3153 - acc: 0.8714 - val_loss: 0.3194 - val_acc: 0.8652\n"
     ]
    },
    {
     "data": {
      "text/plain": [
       "<keras.callbacks.History at 0x1e170d1df60>"
      ]
     },
     "execution_count": 38,
     "metadata": {},
     "output_type": "execute_result"
    }
   ],
   "source": [
    "model_8.fit(x_train, y_train, batch_size=32, epochs=3, validation_data = (x_test, y_test))"
   ]
  },
  {
   "cell_type": "markdown",
   "metadata": {},
   "source": [
    "### 4.7 model_9\n",
    "* 文字壓成<span style=\"color:red;\">5</span>維\n",
    "* LSTM 有<span style=\"color:red;\">30</span>個神經元\n",
    "* 使用Dropout <span style=\"color:red;\">0.45</span>\n",
    "* epochs = <span style=\"color:red;\">2</span>"
   ]
  },
  {
   "cell_type": "code",
   "execution_count": 59,
   "metadata": {},
   "outputs": [],
   "source": [
    "N = 5\n",
    "K = 30"
   ]
  },
  {
   "cell_type": "code",
   "execution_count": 60,
   "metadata": {},
   "outputs": [],
   "source": [
    "model_9 = Sequential()\n",
    "model_9.add(Embedding(10000, N))\n",
    "model_9.add(Dropout(0.4))\n",
    "model_9.add(LSTM(K))\n",
    "model_9.add(Dense(1, activation='sigmoid'))"
   ]
  },
  {
   "cell_type": "code",
   "execution_count": 61,
   "metadata": {},
   "outputs": [
    {
     "name": "stdout",
     "output_type": "stream",
     "text": [
      "_________________________________________________________________\n",
      "Layer (type)                 Output Shape              Param #   \n",
      "=================================================================\n",
      "embedding_14 (Embedding)     (None, None, 5)           50000     \n",
      "_________________________________________________________________\n",
      "dropout_9 (Dropout)          (None, None, 5)           0         \n",
      "_________________________________________________________________\n",
      "lstm_14 (LSTM)               (None, 30)                4320      \n",
      "_________________________________________________________________\n",
      "dense_14 (Dense)             (None, 1)                 31        \n",
      "=================================================================\n",
      "Total params: 54,351\n",
      "Trainable params: 54,351\n",
      "Non-trainable params: 0\n",
      "_________________________________________________________________\n"
     ]
    }
   ],
   "source": [
    "model_9.compile(loss='binary_crossentropy', optimizer='adam', metrics=['accuracy'])\n",
    "model_9.summary()"
   ]
  },
  {
   "cell_type": "code",
   "execution_count": 62,
   "metadata": {},
   "outputs": [
    {
     "name": "stdout",
     "output_type": "stream",
     "text": [
      "Train on 25000 samples, validate on 25000 samples\n",
      "Epoch 1/2\n",
      "25000/25000 [==============================] - 36s 1ms/step - loss: 0.4537 - acc: 0.7771 - val_loss: 0.3206 - val_acc: 0.8645\n",
      "Epoch 2/2\n",
      "25000/25000 [==============================] - 34s 1ms/step - loss: 0.2883 - acc: 0.8834 - val_loss: 0.3022 - val_acc: 0.8707\n"
     ]
    },
    {
     "data": {
      "text/plain": [
       "<keras.callbacks.History at 0x1e105b62eb8>"
      ]
     },
     "execution_count": 62,
     "metadata": {},
     "output_type": "execute_result"
    }
   ],
   "source": [
    "model_9.fit(x_train, y_train, batch_size=32, epochs=2, validation_data = (x_test, y_test))"
   ]
  },
  {
   "cell_type": "markdown",
   "metadata": {},
   "source": [
    "## 5. 結果"
   ]
  },
  {
   "cell_type": "markdown",
   "metadata": {},
   "source": [
    "|模式|說明|epochs|訓練資料準確率|測試資料準確率\n",
    "|---|---|---|---|---\n",
    "|model|上課的範例|5|0.9459|0.8548\n",
    "|model_1|增加文字壓的維度(3->5)|5|0.9496|0.8555\n",
    "|model_2|減少文字壓的維度(3->1)|5|0.9413|0.8587\n",
    "|model_3|增加 LSTM 神經元數量(4->50)|5|0.9453|0.8450\n",
    "|model_4|減少 LSTM 神經元數量(4->2)|5|0.9289|0.8449\n",
    "|model_5|activation function 改用 relu|3|0.8878|0.8622\n",
    "|model_6|使用Dropout(0.25)|3|0.8878|0.8482\n",
    "|model_7|使用Dropout(0.4)|3|0.8844|0.8680\n",
    "|model_8|使用Dropout(0.5)|3|0.8714|0.8652\n",
    "|model_9|文字壓成5維, LSTM 30個神經元, 使用Dropout(0.4)|2|0.8834|0.8707\n",
    "\n",
    "\n"
   ]
  },
  {
   "cell_type": "markdown",
   "metadata": {},
   "source": [
    "## 6. 結論\n",
    "1. 增加、減少文字壓到的維度、LSTM 神經元數量會使測試資料準確率些微上升\n",
    "2. 減少文字壓到的維度、LSTM 神經元數量會使訓練資料準確率下降 \n",
    "3. epochs = 2~3時測試資料準確率最高\n",
    "4. 使用Dropout > 0.4 會使測試資料準確率上升\n",
    "\n",
    "### 最後測試 model_9 得到 <span style=\"color:red;\">87.07%</span> 的準確率"
   ]
  },
  {
   "cell_type": "code",
   "execution_count": null,
   "metadata": {},
   "outputs": [],
   "source": []
  }
 ],
 "metadata": {
  "kernelspec": {
   "display_name": "Python 3",
   "language": "python",
   "name": "python3"
  },
  "language_info": {
   "codemirror_mode": {
    "name": "ipython",
    "version": 3
   },
   "file_extension": ".py",
   "mimetype": "text/x-python",
   "name": "python",
   "nbconvert_exporter": "python",
   "pygments_lexer": "ipython3",
   "version": "3.6.4"
  },
  "toc": {
   "base_numbering": 1,
   "nav_menu": {},
   "number_sections": false,
   "sideBar": true,
   "skip_h1_title": false,
   "title_cell": "Table of Contents",
   "title_sidebar": "Contents",
   "toc_cell": false,
   "toc_position": {
    "height": "calc(100% - 180px)",
    "left": "10px",
    "top": "150px",
    "width": "143px"
   },
   "toc_section_display": true,
   "toc_window_display": false
  }
 },
 "nbformat": 4,
 "nbformat_minor": 2
}
