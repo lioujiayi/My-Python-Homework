{
 "cells": [
  {
   "cell_type": "markdown",
   "metadata": {},
   "source": [
    "# 標準神經網路手寫辨識\n",
    "更改神經元個數、hidden layer及調整一次參數的資料筆數，來達成90%以上的正確率"
   ]
  },
  {
   "cell_type": "code",
   "execution_count": 1,
   "metadata": {},
   "outputs": [],
   "source": [
    "%matplotlib inline\n",
    "import numpy as np\n",
    "import matplotlib.pyplot as plt"
   ]
  },
  {
   "cell_type": "code",
   "execution_count": 2,
   "metadata": {},
   "outputs": [
    {
     "name": "stderr",
     "output_type": "stream",
     "text": [
      "C:\\Users\\Administrator\\Anaconda3\\lib\\site-packages\\h5py\\__init__.py:36: FutureWarning: Conversion of the second argument of issubdtype from `float` to `np.floating` is deprecated. In future, it will be treated as `np.float64 == np.dtype(float).type`.\n",
      "  from ._conv import register_converters as _register_converters\n",
      "Using TensorFlow backend.\n"
     ]
    }
   ],
   "source": [
    "from keras.datasets import mnist\n",
    "(x_train,y_train),(x_test,y_test)=mnist.load_data()\n",
    "x_train=x_train.reshape(60000,784)\n",
    "x_test=x_test.reshape(10000,784)\n",
    "\n",
    "from keras.utils import np_utils\n",
    "y_train=np_utils.to_categorical(y_train,10)\n",
    "y_test=np_utils.to_categorical(y_test,10)"
   ]
  },
  {
   "cell_type": "code",
   "execution_count": 3,
   "metadata": {},
   "outputs": [],
   "source": [
    "from keras.models import Sequential\n",
    "from keras.layers import Dense, Activation\n",
    "from keras.optimizers import SGD"
   ]
  },
  {
   "cell_type": "code",
   "execution_count": 4,
   "metadata": {},
   "outputs": [
    {
     "name": "stdout",
     "output_type": "stream",
     "text": [
      "WARNING:tensorflow:From C:\\Users\\Administrator\\Anaconda3\\lib\\site-packages\\tensorflow\\python\\framework\\op_def_library.py:263: colocate_with (from tensorflow.python.framework.ops) is deprecated and will be removed in a future version.\n",
      "Instructions for updating:\n",
      "Colocations handled automatically by placer.\n"
     ]
    }
   ],
   "source": [
    "model=Sequential()\n",
    "model.add(Dense(4,input_dim=784))\n",
    "model.add(Activation('sigmoid'))\n",
    "model.add(Dense(2))\n",
    "model.add(Activation('sigmoid'))\n",
    "model.add(Dense(10))\n",
    "model.add(Activation('softmax'))\n",
    "model.compile(loss='mse',optimizer=SGD(lr=0.087),metrics=['accuracy'])"
   ]
  },
  {
   "cell_type": "code",
   "execution_count": 5,
   "metadata": {},
   "outputs": [
    {
     "name": "stdout",
     "output_type": "stream",
     "text": [
      "WARNING:tensorflow:From C:\\Users\\Administrator\\Anaconda3\\lib\\site-packages\\tensorflow\\python\\ops\\math_ops.py:3066: to_int32 (from tensorflow.python.ops.math_ops) is deprecated and will be removed in a future version.\n",
      "Instructions for updating:\n",
      "Use tf.cast instead.\n",
      "Epoch 1/20\n",
      "60000/60000 [==============================] - 2s 30us/step - loss: 0.0902 - acc: 0.0991\n",
      "Epoch 2/20\n",
      "60000/60000 [==============================] - 1s 25us/step - loss: 0.0897 - acc: 0.0991\n",
      "Epoch 3/20\n",
      "60000/60000 [==============================] - 1s 22us/step - loss: 0.0894 - acc: 0.1118\n",
      "Epoch 4/20\n",
      "60000/60000 [==============================] - 1s 22us/step - loss: 0.0892 - acc: 0.1827\n",
      "Epoch 5/20\n",
      "60000/60000 [==============================] - 1s 23us/step - loss: 0.0891 - acc: 0.1942\n",
      "Epoch 6/20\n",
      "60000/60000 [==============================] - 1s 25us/step - loss: 0.0890 - acc: 0.1954\n",
      "Epoch 7/20\n",
      "60000/60000 [==============================] - 1s 24us/step - loss: 0.0888 - acc: 0.1978: 1s -\n",
      "Epoch 8/20\n",
      "60000/60000 [==============================] - 2s 29us/step - loss: 0.0887 - acc: 0.2025\n",
      "Epoch 9/20\n",
      "60000/60000 [==============================] - 1s 24us/step - loss: 0.0886 - acc: 0.1940\n",
      "Epoch 10/20\n",
      "60000/60000 [==============================] - 1s 22us/step - loss: 0.0885 - acc: 0.2074\n",
      "Epoch 11/20\n",
      "60000/60000 [==============================] - 1s 22us/step - loss: 0.0884 - acc: 0.2169\n",
      "Epoch 12/20\n",
      "60000/60000 [==============================] - 1s 22us/step - loss: 0.0882 - acc: 0.2154\n",
      "Epoch 13/20\n",
      "60000/60000 [==============================] - 1s 22us/step - loss: 0.0881 - acc: 0.2177\n",
      "Epoch 14/20\n",
      "60000/60000 [==============================] - 1s 22us/step - loss: 0.0880 - acc: 0.2154\n",
      "Epoch 15/20\n",
      "60000/60000 [==============================] - 1s 22us/step - loss: 0.0879 - acc: 0.2124\n",
      "Epoch 16/20\n",
      "60000/60000 [==============================] - 1s 25us/step - loss: 0.0877 - acc: 0.2131\n",
      "Epoch 17/20\n",
      "60000/60000 [==============================] - 2s 26us/step - loss: 0.0876 - acc: 0.2126\n",
      "Epoch 18/20\n",
      "60000/60000 [==============================] - 1s 22us/step - loss: 0.0874 - acc: 0.2122\n",
      "Epoch 19/20\n",
      "60000/60000 [==============================] - 1s 22us/step - loss: 0.0873 - acc: 0.2115\n",
      "Epoch 20/20\n",
      "60000/60000 [==============================] - 1s 22us/step - loss: 0.0871 - acc: 0.2404\n",
      "10000/10000 [==============================] - 0s 31us/step\n",
      "測試資料的loss: 0.08692372992038727\n",
      "測試資料的正確率: 0.3051\n"
     ]
    }
   ],
   "source": [
    "model.fit(x_train,y_train,batch_size=100,epochs=20)\n",
    "predict=model.predict_classes(x_test)\n",
    "score=model.evaluate(x_test, y_test)\n",
    "print('測試資料的loss:',score[0])\n",
    "print('測試資料的正確率:',score[1])"
   ]
  },
  {
   "cell_type": "markdown",
   "metadata": {},
   "source": [
    "# 增加各層神經元\n",
    "將兩層的神經元都增加到50個"
   ]
  },
  {
   "cell_type": "code",
   "execution_count": 6,
   "metadata": {},
   "outputs": [],
   "source": [
    "model_2=Sequential()\n",
    "model_2.add(Dense(50,input_dim=784))\n",
    "model_2.add(Activation('sigmoid'))\n",
    "model_2.add(Dense(50))\n",
    "model_2.add(Activation('sigmoid'))\n",
    "model_2.add(Dense(10))\n",
    "model_2.add(Activation('softmax'))\n",
    "model_2.compile(loss='mse',optimizer=SGD(lr=0.087),metrics=['accuracy'])"
   ]
  },
  {
   "cell_type": "code",
   "execution_count": 7,
   "metadata": {
    "scrolled": true
   },
   "outputs": [
    {
     "name": "stdout",
     "output_type": "stream",
     "text": [
      "Epoch 1/20\n",
      "60000/60000 [==============================] - 2s 36us/step - loss: 0.0906 - acc: 0.2061\n",
      "Epoch 2/20\n",
      "60000/60000 [==============================] - 2s 37us/step - loss: 0.0872 - acc: 0.3231\n",
      "Epoch 3/20\n",
      "60000/60000 [==============================] - 2s 32us/step - loss: 0.0842 - acc: 0.3600\n",
      "Epoch 4/20\n",
      "60000/60000 [==============================] - 2s 31us/step - loss: 0.0810 - acc: 0.4214\n",
      "Epoch 5/20\n",
      "60000/60000 [==============================] - 2s 31us/step - loss: 0.0773 - acc: 0.5003\n",
      "Epoch 6/20\n",
      "60000/60000 [==============================] - 2s 32us/step - loss: 0.0731 - acc: 0.5359\n",
      "Epoch 7/20\n",
      "60000/60000 [==============================] - 2s 32us/step - loss: 0.0682 - acc: 0.5802\n",
      "Epoch 8/20\n",
      "60000/60000 [==============================] - 2s 32us/step - loss: 0.0630 - acc: 0.6259\n",
      "Epoch 9/20\n",
      "60000/60000 [==============================] - 2s 32us/step - loss: 0.0578 - acc: 0.6662\n",
      "Epoch 10/20\n",
      "60000/60000 [==============================] - 2s 36us/step - loss: 0.0530 - acc: 0.7066\n",
      "Epoch 11/20\n",
      "60000/60000 [==============================] - 2s 32us/step - loss: 0.0486 - acc: 0.7400\n",
      "Epoch 12/20\n",
      "60000/60000 [==============================] - 2s 33us/step - loss: 0.0448 - acc: 0.7685\n",
      "Epoch 13/20\n",
      "60000/60000 [==============================] - 2s 32us/step - loss: 0.0413 - acc: 0.7864\n",
      "Epoch 14/20\n",
      "60000/60000 [==============================] - 2s 33us/step - loss: 0.0382 - acc: 0.8014\n",
      "Epoch 15/20\n",
      "60000/60000 [==============================] - 2s 34us/step - loss: 0.0355 - acc: 0.8093\n",
      "Epoch 16/20\n",
      "60000/60000 [==============================] - 2s 34us/step - loss: 0.0331 - acc: 0.8154\n",
      "Epoch 17/20\n",
      "60000/60000 [==============================] - 2s 34us/step - loss: 0.0311 - acc: 0.8202\n",
      "Epoch 18/20\n",
      "60000/60000 [==============================] - 2s 34us/step - loss: 0.0292 - acc: 0.8233\n",
      "Epoch 19/20\n",
      "60000/60000 [==============================] - 2s 34us/step - loss: 0.0275 - acc: 0.8335\n",
      "Epoch 20/20\n",
      "60000/60000 [==============================] - 2s 34us/step - loss: 0.0259 - acc: 0.8514\n",
      "10000/10000 [==============================] - 0s 44us/step\n",
      "測試資料的loss: 0.02504531483054161\n",
      "測試資料的正確率: 0.8658\n"
     ]
    }
   ],
   "source": [
    "model_2.fit(x_train,y_train,batch_size=100,epochs=20)\n",
    "predict=model_2.predict_classes(x_test)\n",
    "score=model_2.evaluate(x_test, y_test)\n",
    "print('測試資料的loss:',score[0])\n",
    "print('測試資料的正確率:',score[1])"
   ]
  },
  {
   "cell_type": "markdown",
   "metadata": {},
   "source": [
    "## 增加神經元後準確率上升至0.8658\n",
    "試著將第一層神經元增加為98個，第二層神經元數量仍為2個，兩層神經元總數與上面模式相同，比較結果"
   ]
  },
  {
   "cell_type": "code",
   "execution_count": 8,
   "metadata": {},
   "outputs": [],
   "source": [
    "model_3=Sequential()\n",
    "model_3.add(Dense(98,input_dim=784))\n",
    "model_3.add(Activation('sigmoid'))\n",
    "model_3.add(Dense(2))\n",
    "model_3.add(Activation('sigmoid'))\n",
    "model_3.add(Dense(10))\n",
    "model_3.add(Activation('softmax'))\n",
    "model_3.compile(loss='mse',optimizer=SGD(lr=0.087),metrics=['accuracy'])"
   ]
  },
  {
   "cell_type": "code",
   "execution_count": 9,
   "metadata": {},
   "outputs": [
    {
     "name": "stdout",
     "output_type": "stream",
     "text": [
      "Epoch 1/20\n",
      "60000/60000 [==============================] - 2s 41us/step - loss: 0.0898 - acc: 0.0993\n",
      "Epoch 2/20\n",
      "60000/60000 [==============================] - 2s 40us/step - loss: 0.0893 - acc: 0.1000\n",
      "Epoch 3/20\n",
      "60000/60000 [==============================] - 2s 37us/step - loss: 0.0888 - acc: 0.1098\n",
      "Epoch 4/20\n",
      "60000/60000 [==============================] - 2s 41us/step - loss: 0.0884 - acc: 0.1267\n",
      "Epoch 5/20\n",
      "60000/60000 [==============================] - 2s 39us/step - loss: 0.0880 - acc: 0.1472\n",
      "Epoch 6/20\n",
      "60000/60000 [==============================] - 3s 44us/step - loss: 0.0875 - acc: 0.1968\n",
      "Epoch 7/20\n",
      "60000/60000 [==============================] - 2s 39us/step - loss: 0.0870 - acc: 0.2482\n",
      "Epoch 8/20\n",
      "60000/60000 [==============================] - 4s 68us/step - loss: 0.0864 - acc: 0.2629\n",
      "Epoch 9/20\n",
      "60000/60000 [==============================] - 5s 81us/step - loss: 0.0858 - acc: 0.2688\n",
      "Epoch 10/20\n",
      "60000/60000 [==============================] - 4s 63us/step - loss: 0.0850 - acc: 0.2742\n",
      "Epoch 11/20\n",
      "60000/60000 [==============================] - 4s 64us/step - loss: 0.0843 - acc: 0.2775\n",
      "Epoch 12/20\n",
      "60000/60000 [==============================] - 3s 54us/step - loss: 0.0835 - acc: 0.2810\n",
      "Epoch 13/20\n",
      "60000/60000 [==============================] - 3s 51us/step - loss: 0.0827 - acc: 0.2851\n",
      "Epoch 14/20\n",
      "60000/60000 [==============================] - 3s 51us/step - loss: 0.0818 - acc: 0.2900\n",
      "Epoch 15/20\n",
      "60000/60000 [==============================] - 3s 51us/step - loss: 0.0810 - acc: 0.3032\n",
      "Epoch 16/20\n",
      "60000/60000 [==============================] - 3s 51us/step - loss: 0.0802 - acc: 0.3201\n",
      "Epoch 17/20\n",
      "60000/60000 [==============================] - 3s 51us/step - loss: 0.0795 - acc: 0.3408\n",
      "Epoch 18/20\n",
      "60000/60000 [==============================] - 3s 52us/step - loss: 0.0787 - acc: 0.3562\n",
      "Epoch 19/20\n",
      "60000/60000 [==============================] - 3s 55us/step - loss: 0.0781 - acc: 0.3663\n",
      "Epoch 20/20\n",
      "60000/60000 [==============================] - 3s 51us/step - loss: 0.0774 - acc: 0.3729\n",
      "10000/10000 [==============================] - 1s 54us/step\n",
      "測試資料的loss: 0.07665057344436646\n",
      "測試資料的正確率: 0.3817\n"
     ]
    }
   ],
   "source": [
    "model_3.fit(x_train,y_train,batch_size=100,epochs=20)\n",
    "predict=model_3.predict_classes(x_test)\n",
    "score=model_3.evaluate(x_test, y_test)\n",
    "print('測試資料的loss:',score[0])\n",
    "print('測試資料的正確率:',score[1])"
   ]
  },
  {
   "cell_type": "markdown",
   "metadata": {},
   "source": [
    "## 結果顯示將兩層的神經元數量都增加，正確率提高很多，而只提高一層的神經元數量的正確率只提高一點點\n",
    "\n",
    "若2層神經元都增加，比較哪一層增加較多神經元效果較好"
   ]
  },
  {
   "cell_type": "code",
   "execution_count": 10,
   "metadata": {},
   "outputs": [],
   "source": [
    "model_4=Sequential()\n",
    "model_4.add(Dense(80,input_dim=784))\n",
    "model_4.add(Activation('sigmoid'))\n",
    "model_4.add(Dense(20))\n",
    "model_4.add(Activation('sigmoid'))\n",
    "model_4.add(Dense(10))\n",
    "model_4.add(Activation('softmax'))\n",
    "model_4.compile(loss='mse',optimizer=SGD(lr=0.087),metrics=['accuracy'])"
   ]
  },
  {
   "cell_type": "code",
   "execution_count": 11,
   "metadata": {},
   "outputs": [
    {
     "name": "stdout",
     "output_type": "stream",
     "text": [
      "Epoch 1/20\n",
      "60000/60000 [==============================] - 3s 44us/step - loss: 0.0897 - acc: 0.1410: 0s - loss: 0.0899 - acc: \n",
      "Epoch 2/20\n",
      "60000/60000 [==============================] - 2s 39us/step - loss: 0.0865 - acc: 0.2858\n",
      "Epoch 3/20\n",
      "60000/60000 [==============================] - 2s 39us/step - loss: 0.0838 - acc: 0.3817\n",
      "Epoch 4/20\n",
      "60000/60000 [==============================] - 3s 47us/step - loss: 0.0804 - acc: 0.4370\n",
      "Epoch 5/20\n",
      "60000/60000 [==============================] - 3s 52us/step - loss: 0.0764 - acc: 0.5108\n",
      "Epoch 6/20\n",
      "60000/60000 [==============================] - 3s 56us/step - loss: 0.0722 - acc: 0.6033\n",
      "Epoch 7/20\n",
      "60000/60000 [==============================] - 3s 51us/step - loss: 0.0679 - acc: 0.6556\n",
      "Epoch 8/20\n",
      "60000/60000 [==============================] - 3s 49us/step - loss: 0.0633 - acc: 0.6897\n",
      "Epoch 9/20\n",
      "60000/60000 [==============================] - 3s 54us/step - loss: 0.0585 - acc: 0.7104: 0s - loss: 0.0586 - acc: 0.7\n",
      "Epoch 10/20\n",
      "60000/60000 [==============================] - 3s 48us/step - loss: 0.0538 - acc: 0.7276\n",
      "Epoch 11/20\n",
      "60000/60000 [==============================] - 3s 47us/step - loss: 0.0492 - acc: 0.7435\n",
      "Epoch 12/20\n",
      "60000/60000 [==============================] - 3s 47us/step - loss: 0.0450 - acc: 0.7638\n",
      "Epoch 13/20\n",
      "60000/60000 [==============================] - 3s 48us/step - loss: 0.0413 - acc: 0.7858\n",
      "Epoch 14/20\n",
      "60000/60000 [==============================] - 3s 50us/step - loss: 0.0379 - acc: 0.8087\n",
      "Epoch 15/20\n",
      "60000/60000 [==============================] - 3s 48us/step - loss: 0.0349 - acc: 0.8301\n",
      "Epoch 16/20\n",
      "60000/60000 [==============================] - 4s 60us/step - loss: 0.0322 - acc: 0.8481\n",
      "Epoch 17/20\n",
      "60000/60000 [==============================] - 3s 54us/step - loss: 0.0298 - acc: 0.8631\n",
      "Epoch 18/20\n",
      "60000/60000 [==============================] - 3s 54us/step - loss: 0.0276 - acc: 0.8732\n",
      "Epoch 19/20\n",
      "60000/60000 [==============================] - 3s 56us/step - loss: 0.0257 - acc: 0.8824\n",
      "Epoch 20/20\n",
      "60000/60000 [==============================] - 3s 48us/step - loss: 0.0240 - acc: 0.8882\n",
      "10000/10000 [==============================] - 1s 53us/step\n",
      "測試資料的loss: 0.0232421568647027\n",
      "測試資料的正確率: 0.8911\n"
     ]
    }
   ],
   "source": [
    "model_4.fit(x_train,y_train,batch_size=100,epochs=20)\n",
    "predict=model_4.predict_classes(x_test)\n",
    "score=model_4.evaluate(x_test, y_test)\n",
    "print('測試資料的loss:',score[0])\n",
    "print('測試資料的正確率:',score[1])"
   ]
  },
  {
   "cell_type": "code",
   "execution_count": 12,
   "metadata": {},
   "outputs": [],
   "source": [
    "model_5=Sequential()\n",
    "model_5.add(Dense(20,input_dim=784))\n",
    "model_5.add(Activation('sigmoid'))\n",
    "model_5.add(Dense(80))\n",
    "model_5.add(Activation('sigmoid'))\n",
    "model_5.add(Dense(10))\n",
    "model_5.add(Activation('softmax'))\n",
    "model_5.compile(loss='mse',optimizer=SGD(lr=0.087),metrics=['accuracy'])"
   ]
  },
  {
   "cell_type": "code",
   "execution_count": 13,
   "metadata": {},
   "outputs": [
    {
     "name": "stdout",
     "output_type": "stream",
     "text": [
      "Epoch 1/20\n",
      "60000/60000 [==============================] - 2s 32us/step - loss: 0.0899 - acc: 0.1654\n",
      "Epoch 2/20\n",
      "60000/60000 [==============================] - 2s 26us/step - loss: 0.0880 - acc: 0.2328\n",
      "Epoch 3/20\n",
      "60000/60000 [==============================] - 2s 32us/step - loss: 0.0867 - acc: 0.2408\n",
      "Epoch 4/20\n",
      "60000/60000 [==============================] - 2s 41us/step - loss: 0.0852 - acc: 0.2594\n",
      "Epoch 5/20\n",
      "60000/60000 [==============================] - 3s 49us/step - loss: 0.0834 - acc: 0.2832\n",
      "Epoch 6/20\n",
      "60000/60000 [==============================] - 3s 51us/step - loss: 0.0814 - acc: 0.3211\n",
      "Epoch 7/20\n",
      "60000/60000 [==============================] - 3s 43us/step - loss: 0.0793 - acc: 0.3759\n",
      "Epoch 8/20\n",
      "60000/60000 [==============================] - 2s 37us/step - loss: 0.0770 - acc: 0.4097\n",
      "Epoch 9/20\n",
      "60000/60000 [==============================] - 2s 37us/step - loss: 0.0746 - acc: 0.4297\n",
      "Epoch 10/20\n",
      "60000/60000 [==============================] - 2s 36us/step - loss: 0.0721 - acc: 0.4724\n",
      "Epoch 11/20\n",
      "60000/60000 [==============================] - 2s 36us/step - loss: 0.0695 - acc: 0.5095\n",
      "Epoch 12/20\n",
      "60000/60000 [==============================] - 2s 36us/step - loss: 0.0669 - acc: 0.5313\n",
      "Epoch 13/20\n",
      "60000/60000 [==============================] - 2s 37us/step - loss: 0.0641 - acc: 0.5638\n",
      "Epoch 14/20\n",
      "60000/60000 [==============================] - 2s 37us/step - loss: 0.0614 - acc: 0.5924\n",
      "Epoch 15/20\n",
      "60000/60000 [==============================] - 2s 38us/step - loss: 0.0587 - acc: 0.6178\n",
      "Epoch 16/20\n",
      "60000/60000 [==============================] - 2s 37us/step - loss: 0.0560 - acc: 0.6361\n",
      "Epoch 17/20\n",
      "60000/60000 [==============================] - 2s 38us/step - loss: 0.0535 - acc: 0.6460\n",
      "Epoch 18/20\n",
      "60000/60000 [==============================] - 2s 38us/step - loss: 0.0511 - acc: 0.6543\n",
      "Epoch 19/20\n",
      "60000/60000 [==============================] - 2s 38us/step - loss: 0.0488 - acc: 0.6658\n",
      "Epoch 20/20\n",
      "60000/60000 [==============================] - 2s 38us/step - loss: 0.0467 - acc: 0.6828\n",
      "10000/10000 [==============================] - 0s 50us/step\n",
      "測試資料的loss: 0.04560725806355476\n",
      "測試資料的正確率: 0.7037\n"
     ]
    }
   ],
   "source": [
    "model_5.fit(x_train,y_train,batch_size=100,epochs=20)\n",
    "predict=model_5.predict_classes(x_test)\n",
    "score=model_5.evaluate(x_test, y_test)\n",
    "print('測試資料的loss:',score[0])\n",
    "print('測試資料的正確率:',score[1])"
   ]
  },
  {
   "cell_type": "markdown",
   "metadata": {},
   "source": [
    "## 結果顯示第一層神經元增加較多，正確率越高"
   ]
  },
  {
   "cell_type": "markdown",
   "metadata": {},
   "source": [
    "# 增加 hidden layer\n",
    "神經元數量不變，增加第3層hidden layer，神經元數量10個"
   ]
  },
  {
   "cell_type": "code",
   "execution_count": 14,
   "metadata": {},
   "outputs": [],
   "source": [
    "model_6=Sequential()\n",
    "model_6.add(Dense(4,input_dim=784))\n",
    "model_6.add(Activation('sigmoid'))\n",
    "model_6.add(Dense(2))\n",
    "model_6.add(Activation('sigmoid'))\n",
    "model_6.add(Dense(10))\n",
    "model_6.add(Activation('sigmoid'))\n",
    "model_6.add(Dense(10))\n",
    "model_6.add(Activation('softmax'))\n",
    "model_6.compile(loss='mse',optimizer=SGD(lr=0.087),metrics=['accuracy'])"
   ]
  },
  {
   "cell_type": "code",
   "execution_count": 15,
   "metadata": {},
   "outputs": [
    {
     "name": "stdout",
     "output_type": "stream",
     "text": [
      "Epoch 1/20\n",
      "60000/60000 [==============================] - 2s 28us/step - loss: 0.0921 - acc: 0.0903\n",
      "Epoch 2/20\n",
      "60000/60000 [==============================] - 1s 22us/step - loss: 0.0910 - acc: 0.0903\n",
      "Epoch 3/20\n",
      "60000/60000 [==============================] - 1s 22us/step - loss: 0.0906 - acc: 0.0928\n",
      "Epoch 4/20\n",
      "60000/60000 [==============================] - 1s 23us/step - loss: 0.0903 - acc: 0.1178\n",
      "Epoch 5/20\n",
      "60000/60000 [==============================] - 2s 28us/step - loss: 0.0901 - acc: 0.1250\n",
      "Epoch 6/20\n",
      "60000/60000 [==============================] - 1s 23us/step - loss: 0.0900 - acc: 0.1310\n",
      "Epoch 7/20\n",
      "60000/60000 [==============================] - 1s 23us/step - loss: 0.0899 - acc: 0.1264\n",
      "Epoch 8/20\n",
      "60000/60000 [==============================] - 1s 23us/step - loss: 0.0899 - acc: 0.1124\n",
      "Epoch 9/20\n",
      "60000/60000 [==============================] - 1s 24us/step - loss: 0.0899 - acc: 0.1124\n",
      "Epoch 10/20\n",
      "60000/60000 [==============================] - 1s 23us/step - loss: 0.0898 - acc: 0.1124\n",
      "Epoch 11/20\n",
      "60000/60000 [==============================] - 1s 23us/step - loss: 0.0898 - acc: 0.1124\n",
      "Epoch 12/20\n",
      "60000/60000 [==============================] - 1s 24us/step - loss: 0.0898 - acc: 0.1124\n",
      "Epoch 13/20\n",
      "60000/60000 [==============================] - 2s 25us/step - loss: 0.0898 - acc: 0.1124\n",
      "Epoch 14/20\n",
      "60000/60000 [==============================] - 1s 24us/step - loss: 0.0898 - acc: 0.1124\n",
      "Epoch 15/20\n",
      "60000/60000 [==============================] - 2s 31us/step - loss: 0.0898 - acc: 0.1147\n",
      "Epoch 16/20\n",
      "60000/60000 [==============================] - 2s 32us/step - loss: 0.0898 - acc: 0.1291\n",
      "Epoch 17/20\n",
      "60000/60000 [==============================] - 2s 31us/step - loss: 0.0898 - acc: 0.1328\n",
      "Epoch 18/20\n",
      "60000/60000 [==============================] - 2s 31us/step - loss: 0.0897 - acc: 0.1350\n",
      "Epoch 19/20\n",
      "60000/60000 [==============================] - 2s 29us/step - loss: 0.0897 - acc: 0.1393\n",
      "Epoch 20/20\n",
      "60000/60000 [==============================] - 2s 30us/step - loss: 0.0897 - acc: 0.1872\n",
      "10000/10000 [==============================] - 0s 46us/step\n",
      "測試資料的loss: 0.08971212252378463\n",
      "測試資料的正確率: 0.2006\n"
     ]
    }
   ],
   "source": [
    "model_6.fit(x_train,y_train,batch_size=100,epochs=20)\n",
    "predict=model_6.predict_classes(x_test)\n",
    "score=model_6.evaluate(x_test, y_test)\n",
    "print('測試資料的loss:',score[0])\n",
    "print('測試資料的正確率:',score[1])"
   ]
  },
  {
   "cell_type": "markdown",
   "metadata": {},
   "source": [
    "## 增加 hidden layer後正確率反而降低\n",
    "試著增加到5層 hidden layer，神經元數量10個"
   ]
  },
  {
   "cell_type": "code",
   "execution_count": 16,
   "metadata": {},
   "outputs": [],
   "source": [
    "model_7=Sequential()\n",
    "model_7.add(Dense(4,input_dim=784))\n",
    "model_7.add(Activation('sigmoid'))\n",
    "model_7.add(Dense(2))\n",
    "model_7.add(Activation('sigmoid'))\n",
    "model_7.add(Dense(10))\n",
    "model_7.add(Activation('sigmoid'))\n",
    "model_7.add(Dense(10))\n",
    "model_7.add(Activation('sigmoid'))\n",
    "model_7.add(Dense(10))\n",
    "model_7.add(Activation('sigmoid'))\n",
    "model_7.add(Dense(10))\n",
    "model_7.add(Activation('softmax'))\n",
    "model_7.compile(loss='mse',optimizer=SGD(lr=0.087),metrics=['accuracy'])"
   ]
  },
  {
   "cell_type": "code",
   "execution_count": 17,
   "metadata": {},
   "outputs": [
    {
     "name": "stdout",
     "output_type": "stream",
     "text": [
      "Epoch 1/20\n",
      "60000/60000 [==============================] - 2s 34us/step - loss: 0.0929 - acc: 0.1079\n",
      "Epoch 2/20\n",
      "60000/60000 [==============================] - 1s 25us/step - loss: 0.0907 - acc: 0.1124\n",
      "Epoch 3/20\n",
      "60000/60000 [==============================] - 1s 24us/step - loss: 0.0902 - acc: 0.1124\n",
      "Epoch 4/20\n",
      "60000/60000 [==============================] - 1s 24us/step - loss: 0.0901 - acc: 0.1124\n",
      "Epoch 5/20\n",
      "60000/60000 [==============================] - 1s 25us/step - loss: 0.0900 - acc: 0.1124\n",
      "Epoch 6/20\n",
      "60000/60000 [==============================] - 1s 25us/step - loss: 0.0900 - acc: 0.1124\n",
      "Epoch 7/20\n",
      "60000/60000 [==============================] - 1s 25us/step - loss: 0.0900 - acc: 0.1124\n",
      "Epoch 8/20\n",
      "60000/60000 [==============================] - 1s 25us/step - loss: 0.0900 - acc: 0.1124\n",
      "Epoch 9/20\n",
      "60000/60000 [==============================] - 1s 25us/step - loss: 0.0900 - acc: 0.1124\n",
      "Epoch 10/20\n",
      "60000/60000 [==============================] - 1s 25us/step - loss: 0.0900 - acc: 0.1124\n",
      "Epoch 11/20\n",
      "60000/60000 [==============================] - 1s 25us/step - loss: 0.0900 - acc: 0.1124\n",
      "Epoch 12/20\n",
      "60000/60000 [==============================] - 2s 28us/step - loss: 0.0900 - acc: 0.1124\n",
      "Epoch 13/20\n",
      "60000/60000 [==============================] - 2s 25us/step - loss: 0.0900 - acc: 0.1124\n",
      "Epoch 14/20\n",
      "60000/60000 [==============================] - 1s 25us/step - loss: 0.0900 - acc: 0.1124\n",
      "Epoch 15/20\n",
      "60000/60000 [==============================] - 1s 25us/step - loss: 0.0900 - acc: 0.1124\n",
      "Epoch 16/20\n",
      "60000/60000 [==============================] - 1s 25us/step - loss: 0.0900 - acc: 0.1124\n",
      "Epoch 17/20\n",
      "60000/60000 [==============================] - 1s 25us/step - loss: 0.0900 - acc: 0.1124\n",
      "Epoch 18/20\n",
      "60000/60000 [==============================] - 2s 25us/step - loss: 0.0900 - acc: 0.1124\n",
      "Epoch 19/20\n",
      "60000/60000 [==============================] - 2s 29us/step - loss: 0.0900 - acc: 0.1124\n",
      "Epoch 20/20\n",
      "60000/60000 [==============================] - 2s 30us/step - loss: 0.0900 - acc: 0.1124\n",
      "10000/10000 [==============================] - 0s 48us/step\n",
      "測試資料的loss: 0.08996815485954285\n",
      "測試資料的正確率: 0.1135\n"
     ]
    }
   ],
   "source": [
    "model_7.fit(x_train,y_train,batch_size=100,epochs=20)\n",
    "predict=model_7.predict_classes(x_test)\n",
    "score=model_7.evaluate(x_test, y_test)\n",
    "print('測試資料的loss:',score[0])\n",
    "print('測試資料的正確率:',score[1])"
   ]
  },
  {
   "cell_type": "markdown",
   "metadata": {},
   "source": [
    "## 增加到5層 hidden layer，正確率又更低了"
   ]
  },
  {
   "cell_type": "markdown",
   "metadata": {},
   "source": [
    "# 更改調一次參數的資料筆數\n",
    "改成10筆資料調一次參數"
   ]
  },
  {
   "cell_type": "code",
   "execution_count": 18,
   "metadata": {},
   "outputs": [],
   "source": [
    "model_8=Sequential()\n",
    "model_8.add(Dense(4,input_dim=784))\n",
    "model_8.add(Activation('sigmoid'))\n",
    "model_8.add(Dense(2))\n",
    "model_8.add(Activation('sigmoid'))\n",
    "model_8.add(Dense(10))\n",
    "model_8.add(Activation('softmax'))\n",
    "model_8.compile(loss='mse',optimizer=SGD(lr=0.087),metrics=['accuracy'])"
   ]
  },
  {
   "cell_type": "code",
   "execution_count": 19,
   "metadata": {},
   "outputs": [
    {
     "name": "stdout",
     "output_type": "stream",
     "text": [
      "Epoch 1/20\n",
      "60000/60000 [==============================] - 7s 124us/step - loss: 0.0893 - acc: 0.1151\n",
      "Epoch 2/20\n",
      "60000/60000 [==============================] - 7s 119us/step - loss: 0.0877 - acc: 0.2815\n",
      "Epoch 3/20\n",
      "60000/60000 [==============================] - 7s 119us/step - loss: 0.0858 - acc: 0.2959\n",
      "Epoch 4/20\n",
      "60000/60000 [==============================] - 8s 135us/step - loss: 0.0833 - acc: 0.2952\n",
      "Epoch 5/20\n",
      "60000/60000 [==============================] - 8s 141us/step - loss: 0.0802 - acc: 0.3001\n",
      "Epoch 6/20\n",
      "60000/60000 [==============================] - 8s 140us/step - loss: 0.0769 - acc: 0.3019\n",
      "Epoch 7/20\n",
      "60000/60000 [==============================] - 9s 143us/step - loss: 0.0742 - acc: 0.3003\n",
      "Epoch 8/20\n",
      "60000/60000 [==============================] - 9s 149us/step - loss: 0.0722 - acc: 0.3057\n",
      "Epoch 9/20\n",
      "60000/60000 [==============================] - 9s 151us/step - loss: 0.0706 - acc: 0.3211\n",
      "Epoch 10/20\n",
      "60000/60000 [==============================] - 9s 147us/step - loss: 0.0690 - acc: 0.3984\n",
      "Epoch 11/20\n",
      "60000/60000 [==============================] - 9s 151us/step - loss: 0.0680 - acc: 0.4604\n",
      "Epoch 12/20\n",
      "60000/60000 [==============================] - 9s 151us/step - loss: 0.0669 - acc: 0.5246\n",
      "Epoch 13/20\n",
      "60000/60000 [==============================] - 9s 152us/step - loss: 0.0658 - acc: 0.5213\n",
      "Epoch 14/20\n",
      "60000/60000 [==============================] - 10s 161us/step - loss: 0.0656 - acc: 0.5194\n",
      "Epoch 15/20\n",
      "60000/60000 [==============================] - 10s 165us/step - loss: 0.0649 - acc: 0.5310\n",
      "Epoch 16/20\n",
      "60000/60000 [==============================] - 9s 157us/step - loss: 0.0635 - acc: 0.5337\n",
      "Epoch 17/20\n",
      "60000/60000 [==============================] - 10s 159us/step - loss: 0.0627 - acc: 0.5400\n",
      "Epoch 18/20\n",
      "60000/60000 [==============================] - 10s 160us/step - loss: 0.0624 - acc: 0.5345\n",
      "Epoch 19/20\n",
      "60000/60000 [==============================] - 10s 174us/step - loss: 0.0611 - acc: 0.54190s - loss: 0.0611 - acc: \n",
      "Epoch 20/20\n",
      "60000/60000 [==============================] - 10s 174us/step - loss: 0.0610 - acc: 0.5428\n",
      "10000/10000 [==============================] - 1s 54us/step\n",
      "測試資料的loss: 0.05961401075124741\n",
      "測試資料的正確率: 0.5483\n"
     ]
    }
   ],
   "source": [
    "model_8.fit(x_train,y_train,batch_size=10,epochs=20)\n",
    "predict=model_8.predict_classes(x_test)\n",
    "score=model_8.evaluate(x_test, y_test)\n",
    "print('測試資料的loss:',score[0])\n",
    "print('測試資料的正確率:',score[1])"
   ]
  },
  {
   "cell_type": "markdown",
   "metadata": {},
   "source": [
    "## 正確率有提升，但是訓練的時間增加很多"
   ]
  },
  {
   "cell_type": "markdown",
   "metadata": {},
   "source": [
    "# 各層神經元增加為50個，50筆資料更新一次參數"
   ]
  },
  {
   "cell_type": "code",
   "execution_count": 20,
   "metadata": {},
   "outputs": [],
   "source": [
    "model_9=Sequential()\n",
    "model_9.add(Dense(50,input_dim=784))\n",
    "model_9.add(Activation('sigmoid'))\n",
    "model_9.add(Dense(50))\n",
    "model_9.add(Activation('sigmoid'))\n",
    "model_9.add(Dense(10))\n",
    "model_9.add(Activation('softmax'))\n",
    "model_9.compile(loss='mse',optimizer=SGD(lr=0.087),metrics=['accuracy'])"
   ]
  },
  {
   "cell_type": "code",
   "execution_count": 21,
   "metadata": {},
   "outputs": [
    {
     "name": "stdout",
     "output_type": "stream",
     "text": [
      "Epoch 1/20\n",
      "60000/60000 [==============================] - 4s 59us/step - loss: 0.0876 - acc: 0.2560\n",
      "Epoch 2/20\n",
      "60000/60000 [==============================] - 3s 51us/step - loss: 0.0813 - acc: 0.4303\n",
      "Epoch 3/20\n",
      "60000/60000 [==============================] - 4s 62us/step - loss: 0.0739 - acc: 0.5637\n",
      "Epoch 4/20\n",
      "60000/60000 [==============================] - 5s 76us/step - loss: 0.0656 - acc: 0.6237\n",
      "Epoch 5/20\n",
      "60000/60000 [==============================] - 4s 74us/step - loss: 0.0559 - acc: 0.6748\n",
      "Epoch 6/20\n",
      "60000/60000 [==============================] - 4s 74us/step - loss: 0.0464 - acc: 0.7527\n",
      "Epoch 7/20\n",
      "60000/60000 [==============================] - 4s 74us/step - loss: 0.0384 - acc: 0.8255\n",
      "Epoch 8/20\n",
      "60000/60000 [==============================] - 4s 74us/step - loss: 0.0319 - acc: 0.8616\n",
      "Epoch 9/20\n",
      "60000/60000 [==============================] - 5s 76us/step - loss: 0.0270 - acc: 0.8757\n",
      "Epoch 10/20\n",
      "60000/60000 [==============================] - 5s 76us/step - loss: 0.0234 - acc: 0.8866\n",
      "Epoch 11/20\n",
      "60000/60000 [==============================] - 5s 79us/step - loss: 0.0210 - acc: 0.8923\n",
      "Epoch 12/20\n",
      "60000/60000 [==============================] - 5s 84us/step - loss: 0.0192 - acc: 0.8972\n",
      "Epoch 13/20\n",
      "60000/60000 [==============================] - 5s 75us/step - loss: 0.0180 - acc: 0.9024\n",
      "Epoch 14/20\n",
      "60000/60000 [==============================] - 5s 76us/step - loss: 0.0169 - acc: 0.9048\n",
      "Epoch 15/20\n",
      "60000/60000 [==============================] - 5s 76us/step - loss: 0.0162 - acc: 0.9079\n",
      "Epoch 16/20\n",
      "60000/60000 [==============================] - 5s 77us/step - loss: 0.0155 - acc: 0.9125\n",
      "Epoch 17/20\n",
      "60000/60000 [==============================] - 5s 89us/step - loss: 0.0148 - acc: 0.9146\n",
      "Epoch 18/20\n",
      "60000/60000 [==============================] - 5s 80us/step - loss: 0.0144 - acc: 0.9170\n",
      "Epoch 19/20\n",
      "60000/60000 [==============================] - 5s 89us/step - loss: 0.0139 - acc: 0.9195\n",
      "Epoch 20/20\n",
      "60000/60000 [==============================] - 5s 78us/step - loss: 0.0135 - acc: 0.9201\n",
      "10000/10000 [==============================] - 1s 62us/step\n",
      "測試資料的loss: 0.013537658194452525\n",
      "測試資料的正確率: 0.9188\n"
     ]
    }
   ],
   "source": [
    "model_9.fit(x_train,y_train,batch_size=50,epochs=20)\n",
    "predict=model_9.predict_classes(x_test)\n",
    "score=model_9.evaluate(x_test, y_test)\n",
    "print('測試資料的loss:',score[0])\n",
    "print('測試資料的正確率:',score[1])"
   ]
  },
  {
   "cell_type": "markdown",
   "metadata": {},
   "source": [
    "# 第一層神經元增加為80個，第二層神經元增加為20個，50筆資料更新一次參數"
   ]
  },
  {
   "cell_type": "code",
   "execution_count": 22,
   "metadata": {},
   "outputs": [],
   "source": [
    "model_10=Sequential()\n",
    "model_10.add(Dense(80,input_dim=784))\n",
    "model_10.add(Activation('sigmoid'))\n",
    "model_10.add(Dense(20))\n",
    "model_10.add(Activation('sigmoid'))\n",
    "model_10.add(Dense(10))\n",
    "model_10.add(Activation('softmax'))\n",
    "model_10.compile(loss='mse',optimizer=SGD(lr=0.087),metrics=['accuracy'])"
   ]
  },
  {
   "cell_type": "code",
   "execution_count": 23,
   "metadata": {},
   "outputs": [
    {
     "name": "stdout",
     "output_type": "stream",
     "text": [
      "Epoch 1/20\n",
      "60000/60000 [==============================] - 4s 65us/step - loss: 0.0877 - acc: 0.2822\n",
      "Epoch 2/20\n",
      "60000/60000 [==============================] - 4s 64us/step - loss: 0.0803 - acc: 0.5136\n",
      "Epoch 3/20\n",
      "60000/60000 [==============================] - 5s 82us/step - loss: 0.0708 - acc: 0.5686\n",
      "Epoch 4/20\n",
      "60000/60000 [==============================] - 5s 81us/step - loss: 0.0608 - acc: 0.6213\n",
      "Epoch 5/20\n",
      "60000/60000 [==============================] - 5s 82us/step - loss: 0.0520 - acc: 0.6778\n",
      "Epoch 6/20\n",
      "60000/60000 [==============================] - 5s 82us/step - loss: 0.0450 - acc: 0.7417\n",
      "Epoch 7/20\n",
      "60000/60000 [==============================] - 5s 82us/step - loss: 0.0394 - acc: 0.7902\n",
      "Epoch 8/20\n",
      "60000/60000 [==============================] - 5s 83us/step - loss: 0.0348 - acc: 0.8099\n",
      "Epoch 9/20\n",
      "60000/60000 [==============================] - 5s 83us/step - loss: 0.0307 - acc: 0.8267\n",
      "Epoch 10/20\n",
      "60000/60000 [==============================] - 5s 84us/step - loss: 0.0270 - acc: 0.8620\n",
      "Epoch 11/20\n",
      "60000/60000 [==============================] - 5s 90us/step - loss: 0.0238 - acc: 0.8883\n",
      "Epoch 12/20\n",
      "60000/60000 [==============================] - 5s 84us/step - loss: 0.0212 - acc: 0.8984\n",
      "Epoch 13/20\n",
      "60000/60000 [==============================] - 5s 83us/step - loss: 0.0192 - acc: 0.9046\n",
      "Epoch 14/20\n",
      "60000/60000 [==============================] - 5s 87us/step - loss: 0.0177 - acc: 0.9082\n",
      "Epoch 15/20\n",
      "60000/60000 [==============================] - 5s 88us/step - loss: 0.0165 - acc: 0.9125\n",
      "Epoch 16/20\n",
      "60000/60000 [==============================] - 6s 92us/step - loss: 0.0156 - acc: 0.9162\n",
      "Epoch 17/20\n",
      "60000/60000 [==============================] - 5s 88us/step - loss: 0.0149 - acc: 0.9183\n",
      "Epoch 18/20\n",
      "60000/60000 [==============================] - 6s 95us/step - loss: 0.0142 - acc: 0.9211\n",
      "Epoch 19/20\n",
      "60000/60000 [==============================] - 5s 88us/step - loss: 0.0136 - acc: 0.9238\n",
      "Epoch 20/20\n",
      "60000/60000 [==============================] - 5s 88us/step - loss: 0.0132 - acc: 0.9263\n",
      "10000/10000 [==============================] - 1s 67us/step\n",
      "測試資料的loss: 0.013075578341260552\n",
      "測試資料的正確率: 0.9244\n"
     ]
    }
   ],
   "source": [
    "model_10.fit(x_train,y_train,batch_size=50,epochs=20)\n",
    "predict=model_10.predict_classes(x_test)\n",
    "score=model_10.evaluate(x_test, y_test)\n",
    "print('測試資料的loss:',score[0])\n",
    "print('測試資料的正確率:',score[1])"
   ]
  },
  {
   "cell_type": "markdown",
   "metadata": {},
   "source": [
    "# 最後得到正確率92.44%的模式\n",
    "第一層神經元:80個，第二層神經元:20個，50筆資料更新一次參數"
   ]
  },
  {
   "cell_type": "code",
   "execution_count": null,
   "metadata": {},
   "outputs": [],
   "source": []
  }
 ],
 "metadata": {
  "kernelspec": {
   "display_name": "Python 3",
   "language": "python",
   "name": "python3"
  },
  "language_info": {
   "codemirror_mode": {
    "name": "ipython",
    "version": 3
   },
   "file_extension": ".py",
   "mimetype": "text/x-python",
   "name": "python",
   "nbconvert_exporter": "python",
   "pygments_lexer": "ipython3",
   "version": "3.6.4"
  }
 },
 "nbformat": 4,
 "nbformat_minor": 2
}
