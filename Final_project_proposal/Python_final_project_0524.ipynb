{
 "cells": [
  {
   "cell_type": "markdown",
   "metadata": {},
   "source": [
    "# Python機器學習與深度學習入門 期末專題\n",
    "### 組員 : \n",
    "* 統計碩一  周卉敏  R07H41003     \n",
    "* 生工碩一  劉佳儀  R07622038\n",
    "\n",
    "### 題目 : 圖型辨識 : 是否為動物\n",
    "\n",
    "### 目標：利用CNN做圖型辨識\n",
    "\n",
    "* 資料來源：[CIFAR_10](http://www.cs.toronto.edu/~kriz/cifar.html) (Canadian Institute For Advanced Research) dataset\n",
    "- 資料內容：\n",
    "    * 該資料集內含 10 類動物(鳥、貓、狗、青蛙…等)及非動物的圖像(共60000張，每張32X32)\n",
    "    * 其中50000張為training images, 10000張為test images\n",
    "- 目標1：\n",
    "    * 輸入：32X32圖片；輸出：該照片屬於10類中哪一類，以各種方式增加模型的準確率\n",
    "- 目標2：\n",
    "    * 找新的測試照片測試模型，分析模型對於每個分類辨識所抓的特徵\n",
    "\n",
    "- 資料集大致長相："
   ]
  },
  {
   "cell_type": "markdown",
   "metadata": {},
   "source": [
    "![](image/cifar_10_example.png)"
   ]
  },
  {
   "cell_type": "markdown",
   "metadata": {},
   "source": [
    " ## Cifar 10 資料集種類 :\n",
    "- 0 : airplane\n",
    "- 1 : automobile(car)\n",
    "- 2 : bird\n",
    "- 3 : cat\n",
    "- 4 : deer\n",
    "- 5 : dog\n",
    "- 6 : frog\n",
    "- 7 : horse\n",
    "- 8 : ship\n",
    "- 9 : truck"
   ]
  },
  {
   "cell_type": "markdown",
   "metadata": {},
   "source": [
    "## 專案進度 \n",
    "目前進度到 5/24 的訓練 CNN(II)，未來進度規劃如圖中的綠色方塊"
   ]
  },
  {
   "cell_type": "markdown",
   "metadata": {},
   "source": [
    "![](image/Schedule.png)"
   ]
  },
  {
   "cell_type": "code",
   "execution_count": null,
   "metadata": {},
   "outputs": [],
   "source": []
  }
 ],
 "metadata": {
  "kernelspec": {
   "display_name": "Python 3",
   "language": "python",
   "name": "python3"
  },
  "language_info": {
   "codemirror_mode": {
    "name": "ipython",
    "version": 3
   },
   "file_extension": ".py",
   "mimetype": "text/x-python",
   "name": "python",
   "nbconvert_exporter": "python",
   "pygments_lexer": "ipython3",
   "version": "3.6.4"
  },
  "toc": {
   "base_numbering": 1,
   "nav_menu": {},
   "number_sections": false,
   "sideBar": true,
   "skip_h1_title": false,
   "title_cell": "Table of Contents",
   "title_sidebar": "Contents",
   "toc_cell": false,
   "toc_position": {
    "height": "calc(100% - 180px)",
    "left": "10px",
    "top": "150px",
    "width": "213px"
   },
   "toc_section_display": true,
   "toc_window_display": true
  }
 },
 "nbformat": 4,
 "nbformat_minor": 2
}
