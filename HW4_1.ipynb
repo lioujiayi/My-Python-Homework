{
 "cells": [
  {
   "cell_type": "markdown",
   "metadata": {},
   "source": [
    "# 地區年齡性別統計表-登革熱"
   ]
  },
  {
   "cell_type": "code",
   "execution_count": 1,
   "metadata": {},
   "outputs": [],
   "source": [
    "%matplotlib inline\n",
    "\n",
    "import numpy as np\n",
    "import matplotlib.pyplot as plt\n",
    "import pandas as pd\n",
    "import matplotlib as mpl"
   ]
  },
  {
   "cell_type": "code",
   "execution_count": 2,
   "metadata": {},
   "outputs": [],
   "source": [
    "df=pd.read_csv('https://od.cdc.gov.tw/eic/Age_County_Gender_061.csv')"
   ]
  },
  {
   "cell_type": "code",
   "execution_count": 3,
   "metadata": {},
   "outputs": [
    {
     "data": {
      "text/html": [
       "<div>\n",
       "<style scoped>\n",
       "    .dataframe tbody tr th:only-of-type {\n",
       "        vertical-align: middle;\n",
       "    }\n",
       "\n",
       "    .dataframe tbody tr th {\n",
       "        vertical-align: top;\n",
       "    }\n",
       "\n",
       "    .dataframe thead th {\n",
       "        text-align: right;\n",
       "    }\n",
       "</style>\n",
       "<table border=\"1\" class=\"dataframe\">\n",
       "  <thead>\n",
       "    <tr style=\"text-align: right;\">\n",
       "      <th></th>\n",
       "      <th>確定病名</th>\n",
       "      <th>發病年份</th>\n",
       "      <th>發病月份</th>\n",
       "      <th>縣市</th>\n",
       "      <th>鄉鎮</th>\n",
       "      <th>性別</th>\n",
       "      <th>是否為境外移入</th>\n",
       "      <th>年齡層</th>\n",
       "      <th>確定病例數</th>\n",
       "    </tr>\n",
       "  </thead>\n",
       "  <tbody>\n",
       "    <tr>\n",
       "      <th>0</th>\n",
       "      <td>登革熱</td>\n",
       "      <td>2003</td>\n",
       "      <td>10</td>\n",
       "      <td>高雄市</td>\n",
       "      <td>楠梓區</td>\n",
       "      <td>M</td>\n",
       "      <td>否</td>\n",
       "      <td>15-19</td>\n",
       "      <td>1</td>\n",
       "    </tr>\n",
       "    <tr>\n",
       "      <th>1</th>\n",
       "      <td>登革熱</td>\n",
       "      <td>2004</td>\n",
       "      <td>10</td>\n",
       "      <td>屏東縣</td>\n",
       "      <td>屏東市</td>\n",
       "      <td>F</td>\n",
       "      <td>否</td>\n",
       "      <td>30-34</td>\n",
       "      <td>5</td>\n",
       "    </tr>\n",
       "    <tr>\n",
       "      <th>2</th>\n",
       "      <td>登革熱</td>\n",
       "      <td>2004</td>\n",
       "      <td>4</td>\n",
       "      <td>台中市</td>\n",
       "      <td>南區</td>\n",
       "      <td>M</td>\n",
       "      <td>否</td>\n",
       "      <td>25-29</td>\n",
       "      <td>1</td>\n",
       "    </tr>\n",
       "    <tr>\n",
       "      <th>3</th>\n",
       "      <td>登革熱</td>\n",
       "      <td>2004</td>\n",
       "      <td>6</td>\n",
       "      <td>台中市</td>\n",
       "      <td>沙鹿區</td>\n",
       "      <td>F</td>\n",
       "      <td>是</td>\n",
       "      <td>20-24</td>\n",
       "      <td>1</td>\n",
       "    </tr>\n",
       "    <tr>\n",
       "      <th>4</th>\n",
       "      <td>登革熱</td>\n",
       "      <td>2004</td>\n",
       "      <td>9</td>\n",
       "      <td>台南市</td>\n",
       "      <td>仁德區</td>\n",
       "      <td>M</td>\n",
       "      <td>是</td>\n",
       "      <td>20-24</td>\n",
       "      <td>1</td>\n",
       "    </tr>\n",
       "  </tbody>\n",
       "</table>\n",
       "</div>"
      ],
      "text/plain": [
       "  確定病名  發病年份  發病月份   縣市   鄉鎮 性別 是否為境外移入    年齡層  確定病例數\n",
       "0  登革熱  2003    10  高雄市  楠梓區  M       否  15-19      1\n",
       "1  登革熱  2004    10  屏東縣  屏東市  F       否  30-34      5\n",
       "2  登革熱  2004     4  台中市   南區  M       否  25-29      1\n",
       "3  登革熱  2004     6  台中市  沙鹿區  F       是  20-24      1\n",
       "4  登革熱  2004     9  台南市  仁德區  M       是  20-24      1"
      ]
     },
     "execution_count": 3,
     "metadata": {},
     "output_type": "execute_result"
    }
   ],
   "source": [
    "df.head()"
   ]
  },
  {
   "cell_type": "code",
   "execution_count": 4,
   "metadata": {},
   "outputs": [],
   "source": [
    "df2=df.loc[:,['發病年份','發病月份','縣市','性別','是否為境外移入','確定病例數']].copy()"
   ]
  },
  {
   "cell_type": "code",
   "execution_count": 5,
   "metadata": {},
   "outputs": [
    {
     "data": {
      "text/html": [
       "<div>\n",
       "<style scoped>\n",
       "    .dataframe tbody tr th:only-of-type {\n",
       "        vertical-align: middle;\n",
       "    }\n",
       "\n",
       "    .dataframe tbody tr th {\n",
       "        vertical-align: top;\n",
       "    }\n",
       "\n",
       "    .dataframe thead th {\n",
       "        text-align: right;\n",
       "    }\n",
       "</style>\n",
       "<table border=\"1\" class=\"dataframe\">\n",
       "  <thead>\n",
       "    <tr style=\"text-align: right;\">\n",
       "      <th></th>\n",
       "      <th>發病年份</th>\n",
       "      <th>發病月份</th>\n",
       "      <th>縣市</th>\n",
       "      <th>性別</th>\n",
       "      <th>是否為境外移入</th>\n",
       "      <th>確定病例數</th>\n",
       "    </tr>\n",
       "  </thead>\n",
       "  <tbody>\n",
       "    <tr>\n",
       "      <th>0</th>\n",
       "      <td>2003</td>\n",
       "      <td>10</td>\n",
       "      <td>高雄市</td>\n",
       "      <td>M</td>\n",
       "      <td>否</td>\n",
       "      <td>1</td>\n",
       "    </tr>\n",
       "    <tr>\n",
       "      <th>1</th>\n",
       "      <td>2004</td>\n",
       "      <td>10</td>\n",
       "      <td>屏東縣</td>\n",
       "      <td>F</td>\n",
       "      <td>否</td>\n",
       "      <td>5</td>\n",
       "    </tr>\n",
       "    <tr>\n",
       "      <th>2</th>\n",
       "      <td>2004</td>\n",
       "      <td>4</td>\n",
       "      <td>台中市</td>\n",
       "      <td>M</td>\n",
       "      <td>否</td>\n",
       "      <td>1</td>\n",
       "    </tr>\n",
       "    <tr>\n",
       "      <th>3</th>\n",
       "      <td>2004</td>\n",
       "      <td>6</td>\n",
       "      <td>台中市</td>\n",
       "      <td>F</td>\n",
       "      <td>是</td>\n",
       "      <td>1</td>\n",
       "    </tr>\n",
       "    <tr>\n",
       "      <th>4</th>\n",
       "      <td>2004</td>\n",
       "      <td>9</td>\n",
       "      <td>台南市</td>\n",
       "      <td>M</td>\n",
       "      <td>是</td>\n",
       "      <td>1</td>\n",
       "    </tr>\n",
       "  </tbody>\n",
       "</table>\n",
       "</div>"
      ],
      "text/plain": [
       "   發病年份  發病月份   縣市 性別 是否為境外移入  確定病例數\n",
       "0  2003    10  高雄市  M       否      1\n",
       "1  2004    10  屏東縣  F       否      5\n",
       "2  2004     4  台中市  M       否      1\n",
       "3  2004     6  台中市  F       是      1\n",
       "4  2004     9  台南市  M       是      1"
      ]
     },
     "execution_count": 5,
     "metadata": {},
     "output_type": "execute_result"
    }
   ],
   "source": [
    "df2.head()"
   ]
  },
  {
   "cell_type": "markdown",
   "metadata": {},
   "source": [
    "## 每年登革熱病例數"
   ]
  },
  {
   "cell_type": "code",
   "execution_count": 2,
   "metadata": {},
   "outputs": [],
   "source": [
    "year=range(2003,2020)\n",
    "year_quantity=[0]*len(year)"
   ]
  },
  {
   "cell_type": "code",
   "execution_count": 7,
   "metadata": {},
   "outputs": [
    {
     "data": {
      "text/plain": [
       "Text(0,0.5,'病例數')"
      ]
     },
     "execution_count": 7,
     "metadata": {},
     "output_type": "execute_result"
    },
    {
     "data": {
      "image/png": "[encoded data removed]",
      "text/plain": [
       "<matplotlib.figure.Figure at 0x1ea10796908>"
      ]
     },
     "metadata": {},
     "output_type": "display_data"
    }
   ],
   "source": [
    "for i in range (len(df2)):\n",
    "    for j in range (len(year)):\n",
    "        if df2.發病年份[i]==year[j]:\n",
    "            year_quantity[j]=year_quantity[j]+df2.確定病例數[i]\n",
    "\n",
    "from matplotlib.font_manager import FontProperties\n",
    "font = FontProperties(fname=r\"c:\\windows\\fonts\\simsun.ttc\",size=15)             \n",
    "            \n",
    "plt.figure(figsize=(10,4))\n",
    "plt.bar(year,year_quantity)\n",
    "plt.xticks(year)\n",
    "plt.title('每年登革熱病例數', fontproperties = font)\n",
    "plt.xlabel('年份', fontproperties = font)\n",
    "plt.ylabel('病例數', fontproperties = font)"
   ]
  },
  {
   "cell_type": "markdown",
   "metadata": {},
   "source": [
    "## 登革熱確診男女比"
   ]
  },
  {
   "cell_type": "code",
   "execution_count": 8,
   "metadata": {},
   "outputs": [
    {
     "data": {
      "text/plain": [
       "(-1.1008012310547013,\n",
       " 1.1000381538597477,\n",
       " -1.100838958623038,\n",
       " 1.1004442699478854)"
      ]
     },
     "execution_count": 8,
     "metadata": {},
     "output_type": "execute_result"
    },
    {
     "data": {
      "image/png": "[encoded data removed]",
      "text/plain": [
       "<matplotlib.figure.Figure at 0x1ea10762198>"
      ]
     },
     "metadata": {},
     "output_type": "display_data"
    }
   ],
   "source": [
    "sum_M=0\n",
    "sum_F=0\n",
    "for i in range (len(df2)):\n",
    "    if df2.性別[i]=='M':\n",
    "        sum_M+=df2.確定病例數[i]\n",
    "    else:\n",
    "        sum_F+=df2.確定病例數[i]\n",
    "\n",
    "labels='Male','Female'\n",
    "plt.pie([sum_M,sum_F],labels=labels,autopct='%1.1f%%')\n",
    "plt.title('登革熱確診男女比', fontproperties = font)\n",
    "plt.axis('equal')"
   ]
  },
  {
   "cell_type": "markdown",
   "metadata": {},
   "source": [
    "## 每月登革熱病例數"
   ]
  },
  {
   "cell_type": "code",
   "execution_count": 9,
   "metadata": {},
   "outputs": [],
   "source": [
    "month=range(1,13)\n",
    "month_quantity=[0]*len(month)"
   ]
  },
  {
   "cell_type": "code",
   "execution_count": 10,
   "metadata": {},
   "outputs": [
    {
     "data": {
      "text/plain": [
       "Text(0,0.5,'病例數')"
      ]
     },
     "execution_count": 10,
     "metadata": {},
     "output_type": "execute_result"
    },
    {
     "data": {
      "image/png": "[encoded data removed]",
      "text/plain": [
       "<matplotlib.figure.Figure at 0x1ea10762cf8>"
      ]
     },
     "metadata": {},
     "output_type": "display_data"
    }
   ],
   "source": [
    "for i in range (len(df2)):\n",
    "    for j in range (len(month)):\n",
    "        if df2.發病月份[i]==month[j]:\n",
    "            month_quantity[j]+=df2.確定病例數[i]\n",
    "         \n",
    "            \n",
    "plt.figure(figsize=(8,4))\n",
    "plt.bar(month,month_quantity)\n",
    "plt.xticks(month)\n",
    "plt.title('每月登革熱病例數', fontproperties = font)\n",
    "plt.xlabel('月份', fontproperties = font)\n",
    "plt.ylabel('病例數', fontproperties = font)"
   ]
  },
  {
   "cell_type": "markdown",
   "metadata": {},
   "source": [
    "## 境外移入是否較易得登革熱"
   ]
  },
  {
   "cell_type": "code",
   "execution_count": 11,
   "metadata": {},
   "outputs": [
    {
     "data": {
      "text/plain": [
       "(-1.107565363202033,\n",
       " 1.1003602737405949,\n",
       " -1.1074163734773717,\n",
       " 1.1083713905449564)"
      ]
     },
     "execution_count": 11,
     "metadata": {},
     "output_type": "execute_result"
    },
    {
     "data": {
      "image/png": "[encoded data removed]",
      "text/plain": [
       "<matplotlib.figure.Figure at 0x1ea107629e8>"
      ]
     },
     "metadata": {},
     "output_type": "display_data"
    }
   ],
   "source": [
    "sum_Y=0\n",
    "sum_N=0\n",
    "for i in range (len(df2)):\n",
    "    if df2.是否為境外移入[i]=='是':\n",
    "        sum_Y+=df2.確定病例數[i]\n",
    "    else:\n",
    "        sum_N+=df2.確定病例數[i]\n",
    "\n",
    "labels='Imported',' '\n",
    "plt.pie([sum_Y,sum_N],labels=labels,autopct='%1.1f%%')\n",
    "plt.title('登革熱確診境外移入比', fontproperties = font)\n",
    "plt.axis('equal')"
   ]
  },
  {
   "cell_type": "code",
   "execution_count": null,
   "metadata": {},
   "outputs": [],
   "source": []
  }
 ],
 "metadata": {
  "kernelspec": {
   "display_name": "Python 3",
   "language": "python",
   "name": "python3"
  },
  "language_info": {
   "codemirror_mode": {
    "name": "ipython",
    "version": 3
   },
   "file_extension": ".py",
   "mimetype": "text/x-python",
   "name": "python",
   "nbconvert_exporter": "python",
   "pygments_lexer": "ipython3",
   "version": "3.6.4"
  }
 },
 "nbformat": 4,
 "nbformat_minor": 2
}
