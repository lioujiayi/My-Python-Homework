{
 "cells": [
  {
   "cell_type": "markdown",
   "metadata": {},
   "source": [
    "# CNN 圖片辨識 (使用mnist 資料庫)\n",
    "更改 CNN 層數、filter 數量、標準神經網路層數、Loss function。\n",
    "\n",
    "測試資料的準確率為 <span style=\"color:red;\">98.22%</span> "
   ]
  },
  {
   "cell_type": "markdown",
   "metadata": {},
   "source": [
    "## 1. 初始準備、讀入 MNIST 數據庫"
   ]
  },
  {
   "cell_type": "code",
   "execution_count": 1,
   "metadata": {},
   "outputs": [],
   "source": [
    "%matplotlib inline\n",
    "import numpy as np\n",
    "import matplotlib.pyplot as plt"
   ]
  },
  {
   "cell_type": "code",
   "execution_count": 2,
   "metadata": {},
   "outputs": [
    {
     "name": "stdout",
     "output_type": "stream",
     "text": [
      "env: KERAS_BACKEND=tensorflow\n"
     ]
    }
   ],
   "source": [
    "%env KERAS_BACKEND = tensorflow"
   ]
  },
  {
   "cell_type": "code",
   "execution_count": 3,
   "metadata": {},
   "outputs": [
    {
     "name": "stderr",
     "output_type": "stream",
     "text": [
      "C:\\Users\\JIAYI\\Anaconda3\\lib\\site-packages\\h5py\\__init__.py:36: FutureWarning: Conversion of the second argument of issubdtype from `float` to `np.floating` is deprecated. In future, it will be treated as `np.float64 == np.dtype(float).type`.\n",
      "  from ._conv import register_converters as _register_converters\n",
      "Using TensorFlow backend.\n"
     ]
    }
   ],
   "source": [
    "from keras.datasets import mnist\n",
    "(x_train, y_train), (x_test, y_test) = mnist.load_data()"
   ]
  },
  {
   "cell_type": "markdown",
   "metadata": {},
   "source": [
    "## 2. 整理資料格式"
   ]
  },
  {
   "cell_type": "code",
   "execution_count": 4,
   "metadata": {},
   "outputs": [],
   "source": [
    "x_train = x_train.reshape(60000, 28, 28, 1)\n",
    "x_test = x_test.reshape(10000, 28, 28, 1)"
   ]
  },
  {
   "cell_type": "code",
   "execution_count": 5,
   "metadata": {},
   "outputs": [],
   "source": [
    "from keras.utils import np_utils"
   ]
  },
  {
   "cell_type": "code",
   "execution_count": 6,
   "metadata": {},
   "outputs": [],
   "source": [
    "y_train = np_utils.to_categorical(y_train, 10)\n",
    "y_test = np_utils.to_categorical(y_test, 10)"
   ]
  },
  {
   "cell_type": "code",
   "execution_count": 7,
   "metadata": {},
   "outputs": [],
   "source": [
    "x_train = x_train/255\n",
    "x_test = x_test/255"
   ]
  },
  {
   "cell_type": "markdown",
   "metadata": {},
   "source": [
    "## 3. 決定 CNN 架構\n",
    "* 做 <span style=\"color:red;\">2</span> 次 convolution, 每次都接 max-pooling\n",
    "* filter 大小都是 <span style=\"color:red;\">5x5</span>, max-pooling 都用 <span style=\"color:red;\">2x2</span> 為一小區塊\n",
    "* filters 數分別是 <span style=\"color:red;\">5, 10</span>\n",
    "\n",
    "標準神經網路設計:\n",
    "* <span style=\"color:red;\">2</span> 個隱藏層, 神經元分別為 <span style=\"color:red;\">20, 10</span> 個\n",
    "\n",
    "Loss function : <span style=\"color:red;\">categorical_crossentropy</span>"
   ]
  },
  {
   "cell_type": "code",
   "execution_count": 8,
   "metadata": {},
   "outputs": [],
   "source": [
    "from keras.models import Sequential\n",
    "from keras.layers import Dense, Activation, Flatten\n",
    "from keras.layers import Conv2D, MaxPool2D\n",
    "from keras.optimizers import SGD"
   ]
  },
  {
   "cell_type": "code",
   "execution_count": 9,
   "metadata": {},
   "outputs": [],
   "source": [
    "model_1 = Sequential()"
   ]
  },
  {
   "cell_type": "code",
   "execution_count": 10,
   "metadata": {},
   "outputs": [
    {
     "name": "stdout",
     "output_type": "stream",
     "text": [
      "WARNING:tensorflow:From C:\\Users\\JIAYI\\Anaconda3\\lib\\site-packages\\tensorflow\\python\\framework\\op_def_library.py:263: colocate_with (from tensorflow.python.framework.ops) is deprecated and will be removed in a future version.\n",
      "Instructions for updating:\n",
      "Colocations handled automatically by placer.\n"
     ]
    }
   ],
   "source": [
    "model_1.add(Conv2D(5, (5, 5), padding='same', input_shape=(28, 28, 1)))\n",
    "model_1.add(Activation('relu'))\n",
    "model_1.add(MaxPool2D(pool_size=(2,2)))\n",
    "\n",
    "model_1.add(Conv2D(10, (5, 5), padding='same'))\n",
    "model_1.add(Activation('relu'))\n",
    "model_1.add(MaxPool2D(pool_size=(2,2)))\n",
    "\n",
    "model_1.add(Flatten())\n",
    "model_1.add(Dense(20))\n",
    "model_1.add(Activation('relu'))\n",
    "\n",
    "model_1.add(Dense(10))\n",
    "model_1.add(Activation('relu'))\n",
    "\n",
    "model_1.add(Dense(10))\n",
    "model_1.add(Activation('softmax'))"
   ]
  },
  {
   "cell_type": "code",
   "execution_count": 11,
   "metadata": {},
   "outputs": [],
   "source": [
    "model_1.compile(loss='categorical_crossentropy', optimizer=SGD(lr=0.07), metrics=['accuracy'])"
   ]
  },
  {
   "cell_type": "code",
   "execution_count": 12,
   "metadata": {},
   "outputs": [
    {
     "name": "stdout",
     "output_type": "stream",
     "text": [
      "_________________________________________________________________\n",
      "Layer (type)                 Output Shape              Param #   \n",
      "=================================================================\n",
      "conv2d_1 (Conv2D)            (None, 28, 28, 5)         130       \n",
      "_________________________________________________________________\n",
      "activation_1 (Activation)    (None, 28, 28, 5)         0         \n",
      "_________________________________________________________________\n",
      "max_pooling2d_1 (MaxPooling2 (None, 14, 14, 5)         0         \n",
      "_________________________________________________________________\n",
      "conv2d_2 (Conv2D)            (None, 14, 14, 10)        1260      \n",
      "_________________________________________________________________\n",
      "activation_2 (Activation)    (None, 14, 14, 10)        0         \n",
      "_________________________________________________________________\n",
      "max_pooling2d_2 (MaxPooling2 (None, 7, 7, 10)          0         \n",
      "_________________________________________________________________\n",
      "flatten_1 (Flatten)          (None, 490)               0         \n",
      "_________________________________________________________________\n",
      "dense_1 (Dense)              (None, 20)                9820      \n",
      "_________________________________________________________________\n",
      "activation_3 (Activation)    (None, 20)                0         \n",
      "_________________________________________________________________\n",
      "dense_2 (Dense)              (None, 10)                210       \n",
      "_________________________________________________________________\n",
      "activation_4 (Activation)    (None, 10)                0         \n",
      "_________________________________________________________________\n",
      "dense_3 (Dense)              (None, 10)                110       \n",
      "_________________________________________________________________\n",
      "activation_5 (Activation)    (None, 10)                0         \n",
      "=================================================================\n",
      "Total params: 11,530\n",
      "Trainable params: 11,530\n",
      "Non-trainable params: 0\n",
      "_________________________________________________________________\n"
     ]
    }
   ],
   "source": [
    "model_1.summary()"
   ]
  },
  {
   "cell_type": "markdown",
   "metadata": {},
   "source": [
    "## 4. 訓練模型"
   ]
  },
  {
   "cell_type": "code",
   "execution_count": 13,
   "metadata": {},
   "outputs": [
    {
     "name": "stdout",
     "output_type": "stream",
     "text": [
      "WARNING:tensorflow:From C:\\Users\\JIAYI\\Anaconda3\\lib\\site-packages\\tensorflow\\python\\ops\\math_ops.py:3066: to_int32 (from tensorflow.python.ops.math_ops) is deprecated and will be removed in a future version.\n",
      "Instructions for updating:\n",
      "Use tf.cast instead.\n",
      "Epoch 1/10\n",
      "60000/60000 [==============================] - 13s 224us/step - loss: 0.7081 - acc: 0.7543\n",
      "Epoch 2/10\n",
      "60000/60000 [==============================] - 13s 219us/step - loss: 0.1453 - acc: 0.9566\n",
      "Epoch 3/10\n",
      "60000/60000 [==============================] - 13s 219us/step - loss: 0.1012 - acc: 0.9693\n",
      "Epoch 4/10\n",
      "60000/60000 [==============================] - 13s 219us/step - loss: 0.0830 - acc: 0.9747\n",
      "Epoch 5/10\n",
      "60000/60000 [==============================] - 13s 222us/step - loss: 0.0700 - acc: 0.9785\n",
      "Epoch 6/10\n",
      "60000/60000 [==============================] - 13s 220us/step - loss: 0.0619 - acc: 0.9806\n",
      "Epoch 7/10\n",
      "60000/60000 [==============================] - 13s 220us/step - loss: 0.0563 - acc: 0.9828\n",
      "Epoch 8/10\n",
      "60000/60000 [==============================] - 13s 221us/step - loss: 0.0497 - acc: 0.9846\n",
      "Epoch 9/10\n",
      "60000/60000 [==============================] - 4153s 69ms/step - loss: 0.0462 - acc: 0.9854\n",
      "Epoch 10/10\n",
      "60000/60000 [==============================] - 14s 237us/step - loss: 0.0416 - acc: 0.9868\n"
     ]
    },
    {
     "data": {
      "text/plain": [
       "<keras.callbacks.History at 0x21854101128>"
      ]
     },
     "execution_count": 13,
     "metadata": {},
     "output_type": "execute_result"
    }
   ],
   "source": [
    "model_1.fit(x_train, y_train, batch_size=100, epochs=10)"
   ]
  },
  {
   "cell_type": "markdown",
   "metadata": {},
   "source": [
    "## 5. 結果"
   ]
  },
  {
   "cell_type": "code",
   "execution_count": 14,
   "metadata": {},
   "outputs": [
    {
     "name": "stdout",
     "output_type": "stream",
     "text": [
      "60000/60000 [==============================] - 7s 110us/step\n",
      "10000/10000 [==============================] - 1s 110us/step\n"
     ]
    }
   ],
   "source": [
    "score_train = model_1.evaluate(x_train, y_train)\n",
    "score_test = model_1.evaluate(x_test, y_test)"
   ]
  },
  {
   "cell_type": "code",
   "execution_count": 15,
   "metadata": {},
   "outputs": [
    {
     "name": "stdout",
     "output_type": "stream",
     "text": [
      "訓練資料的 loss: 0.03759\n",
      "訓練資料的準確率: 0.98805\n",
      "測試資料的 loss: 0.05408\n",
      "測試資料的準確率: 0.9822\n"
     ]
    }
   ],
   "source": [
    "print(f'訓練資料的 loss: {score_train[0]:.5f}')\n",
    "print(f'訓練資料的準確率: {score_train[1]}')\n",
    "print(f'測試資料的 loss: {score_test[0]:.5f}')\n",
    "print(f'測試資料的準確率: {score_test[1]}')"
   ]
  },
  {
   "cell_type": "code",
   "execution_count": null,
   "metadata": {},
   "outputs": [],
   "source": []
  }
 ],
 "metadata": {
  "kernelspec": {
   "display_name": "Python 3",
   "language": "python",
   "name": "python3"
  },
  "language_info": {
   "codemirror_mode": {
    "name": "ipython",
    "version": 3
   },
   "file_extension": ".py",
   "mimetype": "text/x-python",
   "name": "python",
   "nbconvert_exporter": "python",
   "pygments_lexer": "ipython3",
   "version": "3.6.4"
  }
 },
 "nbformat": 4,
 "nbformat_minor": 2
}
