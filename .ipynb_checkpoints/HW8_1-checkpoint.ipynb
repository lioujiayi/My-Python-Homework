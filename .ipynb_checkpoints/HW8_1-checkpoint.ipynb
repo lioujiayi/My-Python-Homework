{
 "cells": [
  {
   "cell_type": "markdown",
   "metadata": {},
   "source": [
    "# 使用Functional API建構手寫辨識的神經網路\n",
    "參考 HW7-1 的神經網路，並增加分岔部分"
   ]
  },
  {
   "cell_type": "markdown",
   "metadata": {},
   "source": [
    "## 1. 初始準備、讀入 MNIST 數據庫"
   ]
  },
  {
   "cell_type": "code",
   "execution_count": 1,
   "metadata": {},
   "outputs": [],
   "source": [
    "%matplotlib inline\n",
    "import numpy as np\n",
    "import matplotlib.pyplot as plt\n",
    "import pandas as pd"
   ]
  },
  {
   "cell_type": "code",
   "execution_count": 2,
   "metadata": {},
   "outputs": [
    {
     "name": "stdout",
     "output_type": "stream",
     "text": [
      "env: KERAS_BACKEND=tensorflow\n"
     ]
    }
   ],
   "source": [
    "%env KERAS_BACKEND=tensorflow"
   ]
  },
  {
   "cell_type": "code",
   "execution_count": 3,
   "metadata": {},
   "outputs": [
    {
     "name": "stderr",
     "output_type": "stream",
     "text": [
      "C:\\Users\\Administrator\\Anaconda3\\lib\\site-packages\\h5py\\__init__.py:36: FutureWarning: Conversion of the second argument of issubdtype from `float` to `np.floating` is deprecated. In future, it will be treated as `np.float64 == np.dtype(float).type`.\n",
      "  from ._conv import register_converters as _register_converters\n",
      "Using TensorFlow backend.\n"
     ]
    }
   ],
   "source": [
    "from keras.layers import Dense, Activation\n",
    "from keras.optimizers import SGD\n",
    "\n",
    "from keras.models import Model\n",
    "from keras.layers import Input\n",
    "from keras.layers import concatenate, add\n",
    "\n",
    "from keras.datasets import mnist\n",
    "\n",
    "from keras.utils import to_categorical"
   ]
  },
  {
   "cell_type": "code",
   "execution_count": 4,
   "metadata": {},
   "outputs": [],
   "source": [
    "(x_train0, y_train0), (x_test0, y_test0) = mnist.load_data()"
   ]
  },
  {
   "cell_type": "markdown",
   "metadata": {},
   "source": [
    "## 2. 整理資料格式"
   ]
  },
  {
   "cell_type": "code",
   "execution_count": 5,
   "metadata": {},
   "outputs": [],
   "source": [
    "x_train = x_train0.reshape(60000,28*28)\n",
    "x_test = x_test0.reshape(10000,28*28)"
   ]
  },
  {
   "cell_type": "code",
   "execution_count": 6,
   "metadata": {},
   "outputs": [],
   "source": [
    "y_train = to_categorical(y_train0,10)\n",
    "y_test = to_categorical(y_test0,10)"
   ]
  },
  {
   "cell_type": "markdown",
   "metadata": {},
   "source": [
    "## 3. 建立模型\n",
    "模型如下圖所示，黑色箭頭為原本 HW7-1 的模式設置，增加藍色箭頭的分岔，\n",
    "\n",
    "f2、f5 的 Activation 改為使用relu (上次作業有人說relu比較好，所以試著用看看)"
   ]
  },
  {
   "cell_type": "markdown",
   "metadata": {},
   "source": [
    "<img src=\"HW8_1_model.png\" alt=\"drawing\" style=\"width: 600px;\"/>"
   ]
  },
  {
   "cell_type": "markdown",
   "metadata": {},
   "source": [
    "## 定義函數"
   ]
  },
  {
   "cell_type": "code",
   "execution_count": 7,
   "metadata": {},
   "outputs": [],
   "source": [
    "f_1 = Dense(80, activation='sigmoid')\n",
    "f_2 = Dense(20, activation='relu')\n",
    "f_3 = Dense(10, activation='softmax')\n",
    "f_4 = Dense(80, activation='sigmoid')\n",
    "f_5 = Dense(20, activation='relu') "
   ]
  },
  {
   "cell_type": "markdown",
   "metadata": {},
   "source": [
    "## 定義變數"
   ]
  },
  {
   "cell_type": "code",
   "execution_count": 8,
   "metadata": {},
   "outputs": [],
   "source": [
    "x = Input(shape = (784,))"
   ]
  },
  {
   "cell_type": "code",
   "execution_count": 9,
   "metadata": {
    "scrolled": true
   },
   "outputs": [
    {
     "name": "stdout",
     "output_type": "stream",
     "text": [
      "WARNING:tensorflow:From C:\\Users\\Administrator\\Anaconda3\\lib\\site-packages\\tensorflow\\python\\framework\\op_def_library.py:263: colocate_with (from tensorflow.python.framework.ops) is deprecated and will be removed in a future version.\n",
      "Instructions for updating:\n",
      "Colocations handled automatically by placer.\n"
     ]
    }
   ],
   "source": [
    "z_1 = f_1(x)\n",
    "z_2 = f_2(z_1)\n",
    "z_4 = f_4(x)\n",
    "z_5 = f_5(z_4)\n",
    "\n",
    "z_3 = concatenate([z_2, z_5])\n",
    "y = f_3(z_3)"
   ]
  },
  {
   "cell_type": "code",
   "execution_count": 10,
   "metadata": {
    "scrolled": false
   },
   "outputs": [
    {
     "name": "stdout",
     "output_type": "stream",
     "text": [
      "__________________________________________________________________________________________________\n",
      "Layer (type)                    Output Shape         Param #     Connected to                     \n",
      "==================================================================================================\n",
      "input_1 (InputLayer)            (None, 784)          0                                            \n",
      "__________________________________________________________________________________________________\n",
      "dense_1 (Dense)                 (None, 80)           62800       input_1[0][0]                    \n",
      "__________________________________________________________________________________________________\n",
      "dense_4 (Dense)                 (None, 80)           62800       input_1[0][0]                    \n",
      "__________________________________________________________________________________________________\n",
      "dense_2 (Dense)                 (None, 20)           1620        dense_1[0][0]                    \n",
      "__________________________________________________________________________________________________\n",
      "dense_5 (Dense)                 (None, 20)           1620        dense_4[0][0]                    \n",
      "__________________________________________________________________________________________________\n",
      "concatenate_1 (Concatenate)     (None, 40)           0           dense_2[0][0]                    \n",
      "                                                                 dense_5[0][0]                    \n",
      "__________________________________________________________________________________________________\n",
      "dense_3 (Dense)                 (None, 10)           410         concatenate_1[0][0]              \n",
      "==================================================================================================\n",
      "Total params: 129,250\n",
      "Trainable params: 129,250\n",
      "Non-trainable params: 0\n",
      "__________________________________________________________________________________________________\n"
     ]
    }
   ],
   "source": [
    "model = Model(x, y)\n",
    "model.summary()"
   ]
  },
  {
   "cell_type": "code",
   "execution_count": 11,
   "metadata": {},
   "outputs": [],
   "source": [
    "model.compile(optimizer = 'SGD', loss = 'categorical_crossentropy', metrics=['acc'])"
   ]
  },
  {
   "cell_type": "markdown",
   "metadata": {},
   "source": [
    "## 4. 訓練模型"
   ]
  },
  {
   "cell_type": "code",
   "execution_count": 12,
   "metadata": {},
   "outputs": [
    {
     "name": "stdout",
     "output_type": "stream",
     "text": [
      "WARNING:tensorflow:From C:\\Users\\Administrator\\Anaconda3\\lib\\site-packages\\tensorflow\\python\\ops\\math_ops.py:3066: to_int32 (from tensorflow.python.ops.math_ops) is deprecated and will be removed in a future version.\n",
      "Instructions for updating:\n",
      "Use tf.cast instead.\n",
      "Epoch 1/20\n",
      "60000/60000 [==============================] - 5s 77us/step - loss: 0.7643 - acc: 0.7970\n",
      "Epoch 2/20\n",
      "60000/60000 [==============================] - 4s 70us/step - loss: 0.3560 - acc: 0.9022\n",
      "Epoch 3/20\n",
      "60000/60000 [==============================] - 4s 70us/step - loss: 0.2965 - acc: 0.9149\n",
      "Epoch 4/20\n",
      "60000/60000 [==============================] - 4s 71us/step - loss: 0.2674 - acc: 0.9225\n",
      "Epoch 5/20\n",
      "60000/60000 [==============================] - 4s 71us/step - loss: 0.2484 - acc: 0.9271\n",
      "Epoch 6/20\n",
      "60000/60000 [==============================] - 4s 70us/step - loss: 0.2341 - acc: 0.9317\n",
      "Epoch 7/20\n",
      "60000/60000 [==============================] - 4s 71us/step - loss: 0.2234 - acc: 0.9342\n",
      "Epoch 8/20\n",
      "60000/60000 [==============================] - 4s 71us/step - loss: 0.2086 - acc: 0.9392\n",
      "Epoch 9/20\n",
      "60000/60000 [==============================] - 4s 71us/step - loss: 0.2067 - acc: 0.9377\n",
      "Epoch 10/20\n",
      "60000/60000 [==============================] - 4s 72us/step - loss: 0.1952 - acc: 0.9427\n",
      "Epoch 11/20\n",
      "60000/60000 [==============================] - 4s 71us/step - loss: 0.1921 - acc: 0.9422\n",
      "Epoch 12/20\n",
      "60000/60000 [==============================] - 4s 72us/step - loss: 0.1856 - acc: 0.9437\n",
      "Epoch 13/20\n",
      "60000/60000 [==============================] - 4s 71us/step - loss: 0.1750 - acc: 0.9477\n",
      "Epoch 14/20\n",
      "60000/60000 [==============================] - 4s 72us/step - loss: 0.1691 - acc: 0.9485\n",
      "Epoch 15/20\n",
      "60000/60000 [==============================] - 4s 72us/step - loss: 0.1718 - acc: 0.9477\n",
      "Epoch 16/20\n",
      "60000/60000 [==============================] - 4s 72us/step - loss: 0.1736 - acc: 0.9475\n",
      "Epoch 17/20\n",
      "60000/60000 [==============================] - 4s 73us/step - loss: 0.1662 - acc: 0.9498\n",
      "Epoch 18/20\n",
      "60000/60000 [==============================] - 4s 72us/step - loss: 0.1619 - acc: 0.9509\n",
      "Epoch 19/20\n",
      "60000/60000 [==============================] - 5s 79us/step - loss: 0.1587 - acc: 0.9530\n",
      "Epoch 20/20\n",
      "60000/60000 [==============================] - 5s 76us/step - loss: 0.1593 - acc: 0.9513: 0s - loss: 0.156\n",
      "60000/60000 [==============================] - 3s 52us/step\n",
      "Loss: 0.150076\n",
      "準確率: 95.463333\n"
     ]
    }
   ],
   "source": [
    "model1 = model.fit(x_train, y_train, batch_size=50, epochs=20)\n",
    "score = model.evaluate(x_train, y_train)\n",
    "print(\"Loss: %f\" %score[0])\n",
    "print(\"準確率: %f\" %(score[1]*100))"
   ]
  },
  {
   "cell_type": "markdown",
   "metadata": {},
   "source": [
    "# 結果\n",
    "## 得到準確率95.46%的模式，準確率比上次 HW7-1 (準確率為92.44%)的高"
   ]
  },
  {
   "cell_type": "code",
   "execution_count": null,
   "metadata": {},
   "outputs": [],
   "source": []
  }
 ],
 "metadata": {
  "kernelspec": {
   "display_name": "Python 3",
   "language": "python",
   "name": "python3"
  },
  "language_info": {
   "codemirror_mode": {
    "name": "ipython",
    "version": 3
   },
   "file_extension": ".py",
   "mimetype": "text/x-python",
   "name": "python",
   "nbconvert_exporter": "python",
   "pygments_lexer": "ipython3",
   "version": "3.6.4"
  }
 },
 "nbformat": 4,
 "nbformat_minor": 2
}
